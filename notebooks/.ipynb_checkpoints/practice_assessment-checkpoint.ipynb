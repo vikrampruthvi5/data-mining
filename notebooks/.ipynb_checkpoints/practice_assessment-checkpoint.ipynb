{
 "cells": [
  {
   "cell_type": "markdown",
   "metadata": {},
   "source": [
    "**1) If Y is density reachable from X, which of the following is/are true about Y?**\n",
    "\n",
    "A) Y cannot be core\n",
    "\n",
    "B) Y cannot be border\n",
    "\n",
    "C) Y cannot be noise\n",
    "\n",
    "D) None of the above"
   ]
  },
  {
   "cell_type": "code",
   "execution_count": null,
   "metadata": {},
   "outputs": [],
   "source": []
  },
  {
   "cell_type": "markdown",
   "metadata": {},
   "source": [
    "**2) You have a dataset consisting of 2 groups of 2d points, but the groups are not circlular. Would K-means be able to find the 2 clusters?**\n",
    "\n",
    "A) Yes, if the groups are close to each other\n",
    "\n",
    "B) No, K-means can only find circular clusters\n",
    "\n",
    "C) Yes, if the groups are far apart from each other\n",
    "\n",
    "D) No, K-means would fail if there are outliers"
   ]
  },
  {
   "cell_type": "code",
   "execution_count": null,
   "metadata": {},
   "outputs": [],
   "source": []
  },
  {
   "cell_type": "markdown",
   "metadata": {},
   "source": [
    "**3) Consider a dataset of 100 points generated from a uniform distribution, \n",
    "and another dataset of 100 points generated from a random distribution. If you run K-Means on each of the two datasets, which of the following is/are true?**\n",
    "\n",
    "A) The dataset generated from a uniform distribution would have lower SSE than the random one\n",
    "\n",
    "B) The dataset generated from a random distribution would have lower SSE than the uniform one\n",
    "\n",
    "C) Both would have equal SSE\n",
    "\n",
    "D) The SSE would be negative"
   ]
  },
  {
   "cell_type": "code",
   "execution_count": null,
   "metadata": {},
   "outputs": [],
   "source": []
  },
  {
   "cell_type": "markdown",
   "metadata": {},
   "source": [
    "**4) You have a dataset as shown below where the dots represent the data points, and the crosses represent the initial centroids. ![Smiley1](img/smiley.png) Which of the following is/are true?**\n",
    "\n",
    "A) K-Means with K=4 will be able to find the eyes, nose, and mouth \n",
    "\n",
    "B) K-Means with K=4 will be able to find the eyes and the nose, but not the mouth\n",
    "\n",
    "C) DBSCAN will be able to find the eyes, nose, and mouth\n",
    "\n",
    "D) Neither K-Means nor DBSCAN will be able to find the eyes, nose, and mouth"
   ]
  },
  {
   "cell_type": "code",
   "execution_count": null,
   "metadata": {},
   "outputs": [],
   "source": []
  },
  {
   "cell_type": "markdown",
   "metadata": {},
   "source": [
    "**5) You are given a set of 100 2d points that are all uniformly spaced. You decide to run DBSCAN on it. Which of the following is/are true?**\n",
    "\n",
    "A) DBSCAN will find 10 clusters\n",
    "\n",
    "B) DBSCAN will find 1 cluster with all the points\n",
    "\n",
    "C) DBSCAN will find 0 clusters and classify all the points as noise\n",
    "\n",
    "D) DBSCAN will find 3 clusters"
   ]
  },
  {
   "cell_type": "code",
   "execution_count": null,
   "metadata": {},
   "outputs": [],
   "source": []
  },
  {
   "cell_type": "markdown",
   "metadata": {},
   "source": [
    "**6) Consider the following groups of points. The left and right groups are equidistant from the middle group. ![bisecting](img/bisecting.png) Which of the following is/are true?**\n",
    "\n",
    "A) K-Means with K=3 will perform well \n",
    "\n",
    "B) K-Means with K=3 will not perform well\n",
    "\n",
    "C) Bisecting K-Means with K=3 will perform well\n",
    "\n",
    "D) Bisecting K-Means with K=3 will not perform well"
   ]
  },
  {
   "cell_type": "code",
   "execution_count": null,
   "metadata": {},
   "outputs": [],
   "source": []
  },
  {
   "cell_type": "markdown",
   "metadata": {},
   "source": [
    "**7) Which of following is/are true about SSE (Sum of Squared Error)?**\n",
    "\n",
    "A) If you increase the number of centroids (K), SSE will increase\n",
    "\n",
    "B) If you increase the number of centroids (K), SSE will decrease\n",
    "\n",
    "C) If you decrease the number of centroids (K), SSE will decrease\n",
    "\n",
    "D) If you decrease the number of centroids (K), SSE will increase"
   ]
  },
  {
   "cell_type": "code",
   "execution_count": null,
   "metadata": {},
   "outputs": [],
   "source": []
  },
  {
   "cell_type": "markdown",
   "metadata": {},
   "source": [
    "**8) Will K-Means, DBSCAN, and single-linkage produce the same clustering result every time? Why? Why not?**"
   ]
  },
  {
   "cell_type": "code",
   "execution_count": null,
   "metadata": {},
   "outputs": [],
   "source": []
  },
  {
   "cell_type": "markdown",
   "metadata": {},
   "source": [
    "**9) You have a dataset of 1000 points, and you know that there are 10 groups. After running DBSCAN, it gives you only 1 cluster. What happened?**\n",
    "\n",
    "A) minPts and eps are both too low\n",
    "\n",
    "B) minPts and eps are both too high\n",
    "\n",
    "C) minPts is too high and/or eps is too low\n",
    "\n",
    "D) minPts is too low and/or eps is too high"
   ]
  },
  {
   "cell_type": "code",
   "execution_count": null,
   "metadata": {},
   "outputs": [],
   "source": []
  },
  {
   "cell_type": "markdown",
   "metadata": {},
   "source": [
    "**10) You have 2 datasets A and B. After running K-Means on both of them, the final SSE for dataset A is 100, and 200 for dataset B. Which of the two clustering results do you think is better?**\n",
    "\n",
    "A) The clustering result for dataset A is better\n",
    "\n",
    "B) The clustering result for dataset B is better\n",
    "\n",
    "C) Cannot determine which is better\n",
    "\n",
    "D) None of the above"
   ]
  },
  {
   "cell_type": "code",
   "execution_count": null,
   "metadata": {},
   "outputs": [],
   "source": []
  },
  {
   "cell_type": "markdown",
   "metadata": {},
   "source": [
    "**11) You have run K-Means on a dataset of 500 points and see that the SSE is 0. How and why could this have happened?**"
   ]
  },
  {
   "cell_type": "code",
   "execution_count": null,
   "metadata": {},
   "outputs": [],
   "source": []
  },
  {
   "cell_type": "markdown",
   "metadata": {},
   "source": [
    "**12) You have the following 2d dataset consisting of 4 natural clusters. ![dbscan](img/dbscan.png) Which cluster(s) will DBSCAN find?**\n",
    "\n",
    "A) If eps is low, A and B but not C and D \n",
    "\n",
    "B) If eps is high, C and D but not A and B\n",
    "\n",
    "C) All 4 clusters if eps is high\n",
    "\n",
    "D) All 4 clusters if eps is low"
   ]
  },
  {
   "cell_type": "code",
   "execution_count": null,
   "metadata": {},
   "outputs": [],
   "source": []
  }
 ],
 "metadata": {
  "kernelspec": {
   "display_name": "Python 3",
   "language": "python",
   "name": "python3"
  },
  "language_info": {
   "codemirror_mode": {
    "name": "ipython",
    "version": 3
   },
   "file_extension": ".py",
   "mimetype": "text/x-python",
   "name": "python",
   "nbconvert_exporter": "python",
   "pygments_lexer": "ipython3",
   "version": "3.7.3"
  }
 },
 "nbformat": 4,
 "nbformat_minor": 2
}
