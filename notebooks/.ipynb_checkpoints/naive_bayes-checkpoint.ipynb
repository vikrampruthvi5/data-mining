{
 "cells": [
  {
   "cell_type": "code",
   "execution_count": 2,
   "metadata": {},
   "outputs": [],
   "source": [
    "import pandas as pd"
   ]
  },
  {
   "cell_type": "code",
   "execution_count": 3,
   "metadata": {},
   "outputs": [
    {
     "data": {
      "text/html": [
       "<div>\n",
       "<style scoped>\n",
       "    .dataframe tbody tr th:only-of-type {\n",
       "        vertical-align: middle;\n",
       "    }\n",
       "\n",
       "    .dataframe tbody tr th {\n",
       "        vertical-align: top;\n",
       "    }\n",
       "\n",
       "    .dataframe thead th {\n",
       "        text-align: right;\n",
       "    }\n",
       "</style>\n",
       "<table border=\"1\" class=\"dataframe\">\n",
       "  <thead>\n",
       "    <tr style=\"text-align: right;\">\n",
       "      <th></th>\n",
       "      <th>Home Owner</th>\n",
       "      <th>Marital Status</th>\n",
       "      <th>Annual Income</th>\n",
       "      <th>Default Borrower</th>\n",
       "    </tr>\n",
       "  </thead>\n",
       "  <tbody>\n",
       "    <tr>\n",
       "      <th>0</th>\n",
       "      <td>Y</td>\n",
       "      <td>Single</td>\n",
       "      <td>125</td>\n",
       "      <td>N</td>\n",
       "    </tr>\n",
       "    <tr>\n",
       "      <th>1</th>\n",
       "      <td>N</td>\n",
       "      <td>Married</td>\n",
       "      <td>100</td>\n",
       "      <td>N</td>\n",
       "    </tr>\n",
       "    <tr>\n",
       "      <th>2</th>\n",
       "      <td>N</td>\n",
       "      <td>Single</td>\n",
       "      <td>70</td>\n",
       "      <td>N</td>\n",
       "    </tr>\n",
       "    <tr>\n",
       "      <th>3</th>\n",
       "      <td>Y</td>\n",
       "      <td>Married</td>\n",
       "      <td>120</td>\n",
       "      <td>N</td>\n",
       "    </tr>\n",
       "    <tr>\n",
       "      <th>4</th>\n",
       "      <td>N</td>\n",
       "      <td>Divorced</td>\n",
       "      <td>95</td>\n",
       "      <td>Y</td>\n",
       "    </tr>\n",
       "    <tr>\n",
       "      <th>5</th>\n",
       "      <td>N</td>\n",
       "      <td>Married</td>\n",
       "      <td>60</td>\n",
       "      <td>N</td>\n",
       "    </tr>\n",
       "    <tr>\n",
       "      <th>6</th>\n",
       "      <td>Y</td>\n",
       "      <td>Divorced</td>\n",
       "      <td>220</td>\n",
       "      <td>N</td>\n",
       "    </tr>\n",
       "    <tr>\n",
       "      <th>7</th>\n",
       "      <td>N</td>\n",
       "      <td>Single</td>\n",
       "      <td>85</td>\n",
       "      <td>Y</td>\n",
       "    </tr>\n",
       "    <tr>\n",
       "      <th>8</th>\n",
       "      <td>N</td>\n",
       "      <td>Married</td>\n",
       "      <td>75</td>\n",
       "      <td>N</td>\n",
       "    </tr>\n",
       "    <tr>\n",
       "      <th>9</th>\n",
       "      <td>N</td>\n",
       "      <td>Single</td>\n",
       "      <td>90</td>\n",
       "      <td>Y</td>\n",
       "    </tr>\n",
       "  </tbody>\n",
       "</table>\n",
       "</div>"
      ],
      "text/plain": [
       "  Home Owner Marital Status  Annual Income Default Borrower\n",
       "0          Y         Single            125                N\n",
       "1          N        Married            100                N\n",
       "2          N         Single             70                N\n",
       "3          Y        Married            120                N\n",
       "4          N       Divorced             95                Y\n",
       "5          N        Married             60                N\n",
       "6          Y       Divorced            220                N\n",
       "7          N         Single             85                Y\n",
       "8          N        Married             75                N\n",
       "9          N         Single             90                Y"
      ]
     },
     "execution_count": 3,
     "metadata": {},
     "output_type": "execute_result"
    }
   ],
   "source": [
    "data = '..\\data\\db.csv'\n",
    "pd.read_csv(data)"
   ]
  },
  {
   "cell_type": "markdown",
   "metadata": {},
   "source": [
    "### Counts for Home Owner"
   ]
  },
  {
   "cell_type": "code",
   "execution_count": 4,
   "metadata": {},
   "outputs": [
    {
     "data": {
      "text/html": [
       "<div>\n",
       "<style scoped>\n",
       "    .dataframe tbody tr th:only-of-type {\n",
       "        vertical-align: middle;\n",
       "    }\n",
       "\n",
       "    .dataframe tbody tr th {\n",
       "        vertical-align: top;\n",
       "    }\n",
       "\n",
       "    .dataframe thead th {\n",
       "        text-align: right;\n",
       "    }\n",
       "</style>\n",
       "<table border=\"1\" class=\"dataframe\">\n",
       "  <thead>\n",
       "    <tr style=\"text-align: right;\">\n",
       "      <th></th>\n",
       "      <th>DB=Y</th>\n",
       "      <th>DB=N</th>\n",
       "    </tr>\n",
       "    <tr>\n",
       "      <th>Home Owner</th>\n",
       "      <th></th>\n",
       "      <th></th>\n",
       "    </tr>\n",
       "  </thead>\n",
       "  <tbody>\n",
       "    <tr>\n",
       "      <th>Y</th>\n",
       "      <td>0</td>\n",
       "      <td>3</td>\n",
       "    </tr>\n",
       "    <tr>\n",
       "      <th>N</th>\n",
       "      <td>3</td>\n",
       "      <td>4</td>\n",
       "    </tr>\n",
       "  </tbody>\n",
       "</table>\n",
       "</div>"
      ],
      "text/plain": [
       "            DB=Y  DB=N\n",
       "Home Owner            \n",
       "Y              0     3\n",
       "N              3     4"
      ]
     },
     "execution_count": 4,
     "metadata": {},
     "output_type": "execute_result"
    }
   ],
   "source": [
    "home_owner = {'DB=Y':[0, 3], 'DB=N':[3, 4], 'Home Owner':['Y', 'N']}\n",
    "pd.DataFrame(home_owner).set_index('Home Owner')"
   ]
  },
  {
   "cell_type": "markdown",
   "metadata": {},
   "source": [
    "### Counts for Marital Status"
   ]
  },
  {
   "cell_type": "code",
   "execution_count": 5,
   "metadata": {},
   "outputs": [
    {
     "data": {
      "text/html": [
       "<div>\n",
       "<style scoped>\n",
       "    .dataframe tbody tr th:only-of-type {\n",
       "        vertical-align: middle;\n",
       "    }\n",
       "\n",
       "    .dataframe tbody tr th {\n",
       "        vertical-align: top;\n",
       "    }\n",
       "\n",
       "    .dataframe thead th {\n",
       "        text-align: right;\n",
       "    }\n",
       "</style>\n",
       "<table border=\"1\" class=\"dataframe\">\n",
       "  <thead>\n",
       "    <tr style=\"text-align: right;\">\n",
       "      <th></th>\n",
       "      <th>DB=Y</th>\n",
       "      <th>DB=N</th>\n",
       "    </tr>\n",
       "    <tr>\n",
       "      <th>Marital Status</th>\n",
       "      <th></th>\n",
       "      <th></th>\n",
       "    </tr>\n",
       "  </thead>\n",
       "  <tbody>\n",
       "    <tr>\n",
       "      <th>Single</th>\n",
       "      <td>2</td>\n",
       "      <td>2</td>\n",
       "    </tr>\n",
       "    <tr>\n",
       "      <th>Married</th>\n",
       "      <td>0</td>\n",
       "      <td>4</td>\n",
       "    </tr>\n",
       "    <tr>\n",
       "      <th>Divorced</th>\n",
       "      <td>1</td>\n",
       "      <td>1</td>\n",
       "    </tr>\n",
       "  </tbody>\n",
       "</table>\n",
       "</div>"
      ],
      "text/plain": [
       "                DB=Y  DB=N\n",
       "Marital Status            \n",
       "Single             2     2\n",
       "Married            0     4\n",
       "Divorced           1     1"
      ]
     },
     "execution_count": 5,
     "metadata": {},
     "output_type": "execute_result"
    }
   ],
   "source": [
    "marital_status = {'DB=Y':[2, 0, 1], 'DB=N':[2, 4, 1], 'Marital Status':['Single', 'Married', 'Divorced']}\n",
    "pd.DataFrame(marital_status).set_index('Marital Status')"
   ]
  },
  {
   "cell_type": "markdown",
   "metadata": {},
   "source": [
    "### Mean and Std Dev for Annual Income\n",
    "Mean for DB=Y: $$\\mu=\\frac{95 + 85 + 90}{3} = 90$$\n",
    "Std Dev for DB=Y: $$\\sigma=\\sqrt{\\frac{\\sum_i^k(x_i-90)^2}{2}} = 5$$\n",
    "\n",
    "Mean for DB=N: $$\\mu=\\frac{125 + 100 + 70 + 120 + 60 + 220 + 75}{7} = 110$$\n",
    "Std Dev for DB=N: $$\\sigma=\\sqrt{\\frac{\\sum_i^k(x_i-110)^2}{6}} = 54.5$$"
   ]
  },
  {
   "cell_type": "markdown",
   "metadata": {},
   "source": [
    "### Probabilities for Annual Income = 90\n",
    "P(Income=90|DB=Yes) = $$\\frac{1}{5\\sqrt{2\\pi}} e^\\frac{-(90-90)}{2 \\times 5^2} = 0.08$$\n",
    "P(Income=90|DB=No) = $$\\frac{1}{54.5\\sqrt{2\\pi}} e^\\frac{-(90-110)}{2 \\times 54.5^2} = 0.007$$"
   ]
  },
  {
   "cell_type": "markdown",
   "metadata": {},
   "source": [
    "# Classify the record: X=(Home Owner=N, Marital Status=Married, Income=90)\n",
    "\n",
    "### Without handling zero conditional probabilities"
   ]
  },
  {
   "cell_type": "markdown",
   "metadata": {},
   "source": [
    "#### P(DB=Y|X) = P(Home Owner=No|Yes) P(Marital Status=Married|Yes) P(Annual Income=90|Yes) P(Yes)\n",
    "#### P(DB=Y|X) = $$ \\frac{3}{3} \\times \\frac{0}{3} \\times 0.079 \\times \\frac{3}{10} = 0$$"
   ]
  },
  {
   "cell_type": "markdown",
   "metadata": {},
   "source": [
    "#### P(DB=Y|X) = P(Home Owner=No|No) P(Marital Status=Married|No) P(Annual Income=90|No) P(No)\n",
    "#### P(DB=N|X) = $$ \\frac{4}{7} \\times \\frac{4}{7} \\times 0.007 \\times \\frac{7}{10} = 0.0016$$"
   ]
  },
  {
   "cell_type": "markdown",
   "metadata": {},
   "source": [
    "### Since P(DB=N|X) > P(DB=Y|X), the record X is classified as DB=N"
   ]
  },
  {
   "cell_type": "markdown",
   "metadata": {},
   "source": [
    "# Classify the record: X = (Home Owner = N, Marital Status = Married, Income = 90)\n",
    "\n",
    "### By using Laplace estimate to calculate conditional probabilities"
   ]
  },
  {
   "cell_type": "markdown",
   "metadata": {},
   "source": [
    "#### P(DB=Y|X) = P(Home Owner=No|Yes) P(Marital Status=Married|Yes) P(Annual Income=90|Yes) P(Yes)\n",
    "#### P(DB=Y|X) = $$ \\frac{3+1}{3+2} \\times \\frac{0+1}{3+3} \\times 0.079 \\times \\frac{3}{10} = 0.0032$$"
   ]
  },
  {
   "cell_type": "markdown",
   "metadata": {},
   "source": [
    "#### P(DB=Y|X) = P(Home Owner=No|No) P(Marital Status=Married|No) P(Annual Income=90|No) P(No)\n",
    "#### P(DB=N|X) = $$ \\frac{4+1}{7+2} \\times \\frac{4+1}{7+3} \\times 0.007 \\times \\frac{7}{10} = 0.0014$$"
   ]
  },
  {
   "cell_type": "markdown",
   "metadata": {},
   "source": [
    "### Since P(DB=Y|X) > P(DB=N|X), the record X is classified as DB=Y"
   ]
  },
  {
   "cell_type": "code",
   "execution_count": null,
   "metadata": {},
   "outputs": [],
   "source": []
  },
  {
   "cell_type": "code",
   "execution_count": null,
   "metadata": {},
   "outputs": [],
   "source": []
  }
 ],
 "metadata": {
  "kernelspec": {
   "display_name": "Python 3",
   "language": "python",
   "name": "python3"
  },
  "language_info": {
   "codemirror_mode": {
    "name": "ipython",
    "version": 3
   },
   "file_extension": ".py",
   "mimetype": "text/x-python",
   "name": "python",
   "nbconvert_exporter": "python",
   "pygments_lexer": "ipython3",
   "version": "3.6.5"
  }
 },
 "nbformat": 4,
 "nbformat_minor": 2
}
