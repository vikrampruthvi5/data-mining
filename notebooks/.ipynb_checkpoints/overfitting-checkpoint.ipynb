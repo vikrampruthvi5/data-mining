{
 "cells": [
  {
   "cell_type": "code",
   "execution_count": 5,
   "metadata": {},
   "outputs": [],
   "source": [
    "import pandas as pd\n",
    "import numpy as np\n",
    "import matplotlib.pyplot as plt\n",
    "import seaborn as sns\n",
    "from pylab import rcParams\n",
    "rcParams['figure.figsize'] = 12, 7\n",
    "sns.set()\n",
    "import warnings\n",
    "warnings.filterwarnings(\"ignore\")"
   ]
  },
  {
   "cell_type": "markdown",
   "metadata": {},
   "source": [
    "# Overfitting\n",
    "Overfitting occurs when the model learns the training data so perfectly that it performs poorly on unseen examples. Unseen examples those that have not been used for training, or future examples that we want to predict.\n",
    "\n",
    "Below are the Training and Test accuracies of a decision tree on the Employee Attrition dataset by varying the Min Number of Instances in the Leaves parameter. The corresponding model's Number of Nodes and Number of Leaf Nodes are also recorded."
   ]
  },
  {
   "cell_type": "code",
   "execution_count": 6,
   "metadata": {
    "scrolled": true
   },
   "outputs": [
    {
     "data": {
      "text/html": [
       "<div>\n",
       "<style scoped>\n",
       "    .dataframe tbody tr th:only-of-type {\n",
       "        vertical-align: middle;\n",
       "    }\n",
       "\n",
       "    .dataframe tbody tr th {\n",
       "        vertical-align: top;\n",
       "    }\n",
       "\n",
       "    .dataframe thead th {\n",
       "        text-align: right;\n",
       "    }\n",
       "</style>\n",
       "<table border=\"1\" class=\"dataframe\">\n",
       "  <thead>\n",
       "    <tr style=\"text-align: right;\">\n",
       "      <th></th>\n",
       "      <th>Min Inst in Leaves</th>\n",
       "      <th>Num Nodes</th>\n",
       "      <th>Num Leaves</th>\n",
       "      <th>Train Acc</th>\n",
       "      <th>Test Acc</th>\n",
       "    </tr>\n",
       "  </thead>\n",
       "  <tbody>\n",
       "    <tr>\n",
       "      <th>0</th>\n",
       "      <td>2</td>\n",
       "      <td>199</td>\n",
       "      <td>100</td>\n",
       "      <td>0.956</td>\n",
       "      <td>0.837</td>\n",
       "    </tr>\n",
       "    <tr>\n",
       "      <th>1</th>\n",
       "      <td>5</td>\n",
       "      <td>123</td>\n",
       "      <td>62</td>\n",
       "      <td>0.916</td>\n",
       "      <td>0.844</td>\n",
       "    </tr>\n",
       "    <tr>\n",
       "      <th>2</th>\n",
       "      <td>10</td>\n",
       "      <td>97</td>\n",
       "      <td>49</td>\n",
       "      <td>0.887</td>\n",
       "      <td>0.866</td>\n",
       "    </tr>\n",
       "    <tr>\n",
       "      <th>3</th>\n",
       "      <td>25</td>\n",
       "      <td>47</td>\n",
       "      <td>24</td>\n",
       "      <td>0.865</td>\n",
       "      <td>0.864</td>\n",
       "    </tr>\n",
       "    <tr>\n",
       "      <th>4</th>\n",
       "      <td>50</td>\n",
       "      <td>27</td>\n",
       "      <td>14</td>\n",
       "      <td>0.859</td>\n",
       "      <td>0.859</td>\n",
       "    </tr>\n",
       "    <tr>\n",
       "      <th>5</th>\n",
       "      <td>100</td>\n",
       "      <td>13</td>\n",
       "      <td>7</td>\n",
       "      <td>0.842</td>\n",
       "      <td>0.860</td>\n",
       "    </tr>\n",
       "    <tr>\n",
       "      <th>6</th>\n",
       "      <td>200</td>\n",
       "      <td>7</td>\n",
       "      <td>4</td>\n",
       "      <td>0.839</td>\n",
       "      <td>0.839</td>\n",
       "    </tr>\n",
       "    <tr>\n",
       "      <th>7</th>\n",
       "      <td>500</td>\n",
       "      <td>3</td>\n",
       "      <td>2</td>\n",
       "      <td>0.839</td>\n",
       "      <td>0.839</td>\n",
       "    </tr>\n",
       "  </tbody>\n",
       "</table>\n",
       "</div>"
      ],
      "text/plain": [
       "   Min Inst in Leaves  Num Nodes  Num Leaves  Train Acc  Test Acc\n",
       "0                   2        199         100      0.956     0.837\n",
       "1                   5        123          62      0.916     0.844\n",
       "2                  10         97          49      0.887     0.866\n",
       "3                  25         47          24      0.865     0.864\n",
       "4                  50         27          14      0.859     0.859\n",
       "5                 100         13           7      0.842     0.860\n",
       "6                 200          7           4      0.839     0.839\n",
       "7                 500          3           2      0.839     0.839"
      ]
     },
     "execution_count": 6,
     "metadata": {},
     "output_type": "execute_result"
    }
   ],
   "source": [
    "d = {'Min Inst in Leaves': [2, 5, 10, 25, 50, 100, 200, 500],\n",
    "     'Num Nodes': [199, 123, 97, 47, 27, 13, 7, 3],\n",
    "     'Num Leaves': [100, 62, 49, 24, 14, 7, 4, 2],\n",
    "     'Train Acc': [0.956, 0.916, 0.887, 0.865, 0.859, 0.842, 0.839, 0.839],\n",
    "     'Test Acc': [0.837, 0.844, 0.866, 0.864, 0.859, 0.86, 0.839, 0.839]}\n",
    "df = pd.DataFrame(d)\n",
    "df"
   ]
  },
  {
   "cell_type": "code",
   "execution_count": 7,
   "metadata": {},
   "outputs": [
    {
     "data": {
      "text/plain": [
       "(0.8, 0.98)"
      ]
     },
     "execution_count": 7,
     "metadata": {},
     "output_type": "execute_result"
    },
    {
     "data": {
      "image/png": "[encoded data removed]",
      "text/plain": [
       "<Figure size 864x504 with 1 Axes>"
      ]
     },
     "metadata": {},
     "output_type": "display_data"
    }
   ],
   "source": [
    "ax = sns.lineplot(data=df, x=\"Min Inst in Leaves\", y=\"Train Acc\", label=\"Train Acc\")\n",
    "ax = sns.lineplot(data=df, x=\"Min Inst in Leaves\", y=\"Test Acc\", label=\"Test Acc\")\n",
    "ax.set(ylabel='Acc', title='Train and Test Accuracies by Min Instances in Leaves')\n",
    "plt.ylim(0.8, 0.98)"
   ]
  },
  {
   "cell_type": "markdown",
   "metadata": {},
   "source": [
    "By increasing Min Inst in Leaves, we are restricting the depth of the tree. The deeper the tree, the better the training accuracy, but not the test accuracy, indicating that the model has overfit."
   ]
  },
  {
   "cell_type": "code",
   "execution_count": 8,
   "metadata": {},
   "outputs": [
    {
     "data": {
      "text/plain": [
       "[Text(0,0.5,'Acc'),\n",
       " Text(0.5,1,'Train and Test Accuracies by Number of Leaf Nodes')]"
      ]
     },
     "execution_count": 8,
     "metadata": {},
     "output_type": "execute_result"
    },
    {
     "data": {
      "image/png": "[encoded data removed]",
      "text/plain": [
       "<Figure size 864x504 with 1 Axes>"
      ]
     },
     "metadata": {},
     "output_type": "display_data"
    }
   ],
   "source": [
    "ax = sns.lineplot(data=df, x=\"Num Leaves\", y=\"Train Acc\", label=\"Train Acc\")\n",
    "ax = sns.lineplot(data=df, x=\"Num Leaves\", y=\"Test Acc\", label=\"Test Acc\")\n",
    "ax.set(ylabel='Acc', title='Train and Test Accuracies by Number of Leaf Nodes')"
   ]
  },
  {
   "cell_type": "markdown",
   "metadata": {},
   "source": [
    "As the number of leaves increases (deeper tree), the training accuracy keeps increasing, but the test accuracy does not. The test accuracy drops at around 50 leaves, indicating that the model overfits if there are more than 50 leaves."
   ]
  },
  {
   "cell_type": "code",
   "execution_count": 10,
   "metadata": {},
   "outputs": [
    {
     "data": {
      "text/plain": [
       "[Text(0,0.5,'Acc'),\n",
       " Text(0.5,1,'Train and Test Accuracies by Total Number of Nodes in the Tree')]"
      ]
     },
     "execution_count": 10,
     "metadata": {},
     "output_type": "execute_result"
    },
    {
     "data": {
      "image/png": "[encoded data removed]",
      "text/plain": [
       "<Figure size 864x504 with 1 Axes>"
      ]
     },
     "metadata": {},
     "output_type": "display_data"
    }
   ],
   "source": [
    "ax = sns.lineplot(data=df, x=\"Num Nodes\", y=\"Train Acc\", label=\"Train Acc\")\n",
    "ax = sns.lineplot(data=df, x=\"Num Nodes\", y=\"Test Acc\", label=\"Test Acc\")\n",
    "\n",
    "ax.set(ylabel='Acc', title='Train and Test Accuracies by Total Number of Nodes in the Tree')\n",
    "#plt.ylim(0.8, 0.95)"
   ]
  },
  {
   "cell_type": "markdown",
   "metadata": {},
   "source": [
    "Same as the plot above, except for the x axis parameter, which is the number of nodes in the tree."
   ]
  },
  {
   "cell_type": "markdown",
   "metadata": {},
   "source": [
    "# Reduced Error Pruning\n",
    "One of the ways to deal with overfitting is Reduced Error Pruning, where the nodes are removed one by one, and a validation set is used to check for a decrease in error.\n",
    "\n",
    "We will use the validation set below."
   ]
  },
  {
   "cell_type": "code",
   "execution_count": 12,
   "metadata": {},
   "outputs": [
    {
     "data": {
      "text/html": [
       "<div>\n",
       "<style scoped>\n",
       "    .dataframe tbody tr th:only-of-type {\n",
       "        vertical-align: middle;\n",
       "    }\n",
       "\n",
       "    .dataframe tbody tr th {\n",
       "        vertical-align: top;\n",
       "    }\n",
       "\n",
       "    .dataframe thead th {\n",
       "        text-align: right;\n",
       "    }\n",
       "</style>\n",
       "<table border=\"1\" class=\"dataframe\">\n",
       "  <thead>\n",
       "    <tr style=\"text-align: right;\">\n",
       "      <th></th>\n",
       "      <th>ID</th>\n",
       "      <th>A</th>\n",
       "      <th>B</th>\n",
       "      <th>C</th>\n",
       "      <th>Class</th>\n",
       "    </tr>\n",
       "  </thead>\n",
       "  <tbody>\n",
       "    <tr>\n",
       "      <th>0</th>\n",
       "      <td>21</td>\n",
       "      <td>0</td>\n",
       "      <td>1</td>\n",
       "      <td>0</td>\n",
       "      <td>+</td>\n",
       "    </tr>\n",
       "    <tr>\n",
       "      <th>1</th>\n",
       "      <td>22</td>\n",
       "      <td>0</td>\n",
       "      <td>1</td>\n",
       "      <td>1</td>\n",
       "      <td>+</td>\n",
       "    </tr>\n",
       "    <tr>\n",
       "      <th>2</th>\n",
       "      <td>23</td>\n",
       "      <td>1</td>\n",
       "      <td>0</td>\n",
       "      <td>0</td>\n",
       "      <td>-</td>\n",
       "    </tr>\n",
       "    <tr>\n",
       "      <th>3</th>\n",
       "      <td>24</td>\n",
       "      <td>1</td>\n",
       "      <td>1</td>\n",
       "      <td>1</td>\n",
       "      <td>+</td>\n",
       "    </tr>\n",
       "    <tr>\n",
       "      <th>4</th>\n",
       "      <td>25</td>\n",
       "      <td>2</td>\n",
       "      <td>1</td>\n",
       "      <td>0</td>\n",
       "      <td>+</td>\n",
       "    </tr>\n",
       "  </tbody>\n",
       "</table>\n",
       "</div>"
      ],
      "text/plain": [
       "   ID  A  B  C Class\n",
       "0  21  0  1  0     +\n",
       "1  22  0  1  1     +\n",
       "2  23  1  0  0     -\n",
       "3  24  1  1  1     +\n",
       "4  25  2  1  0     +"
      ]
     },
     "execution_count": 12,
     "metadata": {},
     "output_type": "execute_result"
    }
   ],
   "source": [
    "d = {'ID': [21, 22, 23, 24, 25], 'A': [0, 0, 1, 1, 2], 'B': [1, 1, 0, 1, 1], 'C': [0, 1, 0, 1, 0], 'Class': ['+', '+', '-', '+', '+']} \n",
    "pd.DataFrame(d)"
   ]
  },
  {
   "cell_type": "markdown",
   "metadata": {},
   "source": [
    "The induced decision tree:\n",
    "![title](img/pruning1.png)"
   ]
  },
  {
   "cell_type": "markdown",
   "metadata": {},
   "source": [
    "** 1) Calculate the error on the validation set for full tree.**"
   ]
  },
  {
   "cell_type": "code",
   "execution_count": 28,
   "metadata": {},
   "outputs": [
    {
     "data": {
      "text/html": [
       "<div>\n",
       "<style scoped>\n",
       "    .dataframe tbody tr th:only-of-type {\n",
       "        vertical-align: middle;\n",
       "    }\n",
       "\n",
       "    .dataframe tbody tr th {\n",
       "        vertical-align: top;\n",
       "    }\n",
       "\n",
       "    .dataframe thead th {\n",
       "        text-align: right;\n",
       "    }\n",
       "</style>\n",
       "<table border=\"1\" class=\"dataframe\">\n",
       "  <thead>\n",
       "    <tr style=\"text-align: right;\">\n",
       "      <th></th>\n",
       "      <th>ID</th>\n",
       "      <th>Class</th>\n",
       "      <th>Predicted</th>\n",
       "      <th>is_correct</th>\n",
       "    </tr>\n",
       "  </thead>\n",
       "  <tbody>\n",
       "    <tr>\n",
       "      <th>0</th>\n",
       "      <td>21</td>\n",
       "      <td>+</td>\n",
       "      <td>+</td>\n",
       "      <td>Correct</td>\n",
       "    </tr>\n",
       "    <tr>\n",
       "      <th>1</th>\n",
       "      <td>22</td>\n",
       "      <td>+</td>\n",
       "      <td>+</td>\n",
       "      <td>Correct</td>\n",
       "    </tr>\n",
       "    <tr>\n",
       "      <th>2</th>\n",
       "      <td>23</td>\n",
       "      <td>-</td>\n",
       "      <td>-</td>\n",
       "      <td>Correct</td>\n",
       "    </tr>\n",
       "    <tr>\n",
       "      <th>3</th>\n",
       "      <td>24</td>\n",
       "      <td>+</td>\n",
       "      <td>-</td>\n",
       "      <td>Wrong</td>\n",
       "    </tr>\n",
       "    <tr>\n",
       "      <th>4</th>\n",
       "      <td>25</td>\n",
       "      <td>+</td>\n",
       "      <td>-</td>\n",
       "      <td>Wrong</td>\n",
       "    </tr>\n",
       "  </tbody>\n",
       "</table>\n",
       "</div>"
      ],
      "text/plain": [
       "   ID Class Predicted is_correct\n",
       "0  21     +         +    Correct\n",
       "1  22     +         +    Correct\n",
       "2  23     -         -    Correct\n",
       "3  24     +         -      Wrong\n",
       "4  25     +         -      Wrong"
      ]
     },
     "metadata": {},
     "output_type": "display_data"
    },
    {
     "name": "stdout",
     "output_type": "stream",
     "text": [
      "Error Rate: 0.4\n"
     ]
    }
   ],
   "source": [
    "ef = {'ID': [21, 22, 23, 24, 25], 'Class': ['+', '+', '-', '+', '+'], 'Predicted': ['+', '+', '-', '-', '-'], \n",
    "      'is_correct': ['Correct', 'Correct', 'Correct', 'Wrong', 'Wrong']}\n",
    "error = pd.DataFrame(ef)\n",
    "display(error)\n",
    "print('Error Rate:', 2/5)"
   ]
  },
  {
   "cell_type": "markdown",
   "metadata": {},
   "source": [
    "**2) Remove node B, and recalculate the error rate on the validation set.**\n",
    "\n",
    "The removed node is turned into a leaf with the classification being the majority class at that node. Since there are 2 - and 2 + at this node, you should calculate the error by assigning + and by assigning - as well. However, for the sake of brevity, I am just assigning +.\n",
    "\n",
    "![title](img/pruning2.png)\n"
   ]
  },
  {
   "cell_type": "code",
   "execution_count": 29,
   "metadata": {},
   "outputs": [
    {
     "data": {
      "text/html": [
       "<div>\n",
       "<style scoped>\n",
       "    .dataframe tbody tr th:only-of-type {\n",
       "        vertical-align: middle;\n",
       "    }\n",
       "\n",
       "    .dataframe tbody tr th {\n",
       "        vertical-align: top;\n",
       "    }\n",
       "\n",
       "    .dataframe thead th {\n",
       "        text-align: right;\n",
       "    }\n",
       "</style>\n",
       "<table border=\"1\" class=\"dataframe\">\n",
       "  <thead>\n",
       "    <tr style=\"text-align: right;\">\n",
       "      <th></th>\n",
       "      <th>ID</th>\n",
       "      <th>Class</th>\n",
       "      <th>Predicted</th>\n",
       "      <th>is_correct</th>\n",
       "    </tr>\n",
       "  </thead>\n",
       "  <tbody>\n",
       "    <tr>\n",
       "      <th>0</th>\n",
       "      <td>21</td>\n",
       "      <td>+</td>\n",
       "      <td>+</td>\n",
       "      <td>Correct</td>\n",
       "    </tr>\n",
       "    <tr>\n",
       "      <th>1</th>\n",
       "      <td>22</td>\n",
       "      <td>+</td>\n",
       "      <td>+</td>\n",
       "      <td>Correct</td>\n",
       "    </tr>\n",
       "    <tr>\n",
       "      <th>2</th>\n",
       "      <td>23</td>\n",
       "      <td>-</td>\n",
       "      <td>-</td>\n",
       "      <td>Correct</td>\n",
       "    </tr>\n",
       "    <tr>\n",
       "      <th>3</th>\n",
       "      <td>24</td>\n",
       "      <td>+</td>\n",
       "      <td>-</td>\n",
       "      <td>Wrong</td>\n",
       "    </tr>\n",
       "    <tr>\n",
       "      <th>4</th>\n",
       "      <td>25</td>\n",
       "      <td>+</td>\n",
       "      <td>-</td>\n",
       "      <td>Wrong</td>\n",
       "    </tr>\n",
       "  </tbody>\n",
       "</table>\n",
       "</div>"
      ],
      "text/plain": [
       "   ID Class Predicted is_correct\n",
       "0  21     +         +    Correct\n",
       "1  22     +         +    Correct\n",
       "2  23     -         -    Correct\n",
       "3  24     +         -      Wrong\n",
       "4  25     +         -      Wrong"
      ]
     },
     "metadata": {},
     "output_type": "display_data"
    },
    {
     "name": "stdout",
     "output_type": "stream",
     "text": [
      "Error Rate: 0.4\n"
     ]
    }
   ],
   "source": [
    "ef = {'ID': [21, 22, 23, 24, 25], 'Class': ['+', '+', '-', '+', '+'], 'Predicted': ['+', '+', '-', '-', '-'], \n",
    "      'is_correct': ['Correct', 'Correct', 'Correct', 'Wrong', 'Wrong']}\n",
    "error = pd.DataFrame(ef)\n",
    "display(error)\n",
    "print('Error Rate:', 2/5)"
   ]
  },
  {
   "cell_type": "markdown",
   "metadata": {},
   "source": [
    "The error rate did not increase after removing node B, so we keep the change.\n",
    "\n",
    "**3) Remove node C.**\n",
    "\n",
    "Since there are 5 + and 4 - at node C, we assign + since it's the majority class.\n",
    "\n",
    "![title](img/pruning3.png)\n"
   ]
  },
  {
   "cell_type": "code",
   "execution_count": 30,
   "metadata": {},
   "outputs": [
    {
     "data": {
      "text/html": [
       "<div>\n",
       "<style scoped>\n",
       "    .dataframe tbody tr th:only-of-type {\n",
       "        vertical-align: middle;\n",
       "    }\n",
       "\n",
       "    .dataframe tbody tr th {\n",
       "        vertical-align: top;\n",
       "    }\n",
       "\n",
       "    .dataframe thead th {\n",
       "        text-align: right;\n",
       "    }\n",
       "</style>\n",
       "<table border=\"1\" class=\"dataframe\">\n",
       "  <thead>\n",
       "    <tr style=\"text-align: right;\">\n",
       "      <th></th>\n",
       "      <th>ID</th>\n",
       "      <th>Class</th>\n",
       "      <th>Predicted</th>\n",
       "      <th>is_correct</th>\n",
       "    </tr>\n",
       "  </thead>\n",
       "  <tbody>\n",
       "    <tr>\n",
       "      <th>0</th>\n",
       "      <td>21</td>\n",
       "      <td>+</td>\n",
       "      <td>+</td>\n",
       "      <td>Correct</td>\n",
       "    </tr>\n",
       "    <tr>\n",
       "      <th>1</th>\n",
       "      <td>22</td>\n",
       "      <td>+</td>\n",
       "      <td>+</td>\n",
       "      <td>Correct</td>\n",
       "    </tr>\n",
       "    <tr>\n",
       "      <th>2</th>\n",
       "      <td>23</td>\n",
       "      <td>-</td>\n",
       "      <td>-</td>\n",
       "      <td>Correct</td>\n",
       "    </tr>\n",
       "    <tr>\n",
       "      <th>3</th>\n",
       "      <td>24</td>\n",
       "      <td>+</td>\n",
       "      <td>-</td>\n",
       "      <td>Wrong</td>\n",
       "    </tr>\n",
       "    <tr>\n",
       "      <th>4</th>\n",
       "      <td>25</td>\n",
       "      <td>+</td>\n",
       "      <td>+</td>\n",
       "      <td>Correct</td>\n",
       "    </tr>\n",
       "  </tbody>\n",
       "</table>\n",
       "</div>"
      ],
      "text/plain": [
       "   ID Class Predicted is_correct\n",
       "0  21     +         +    Correct\n",
       "1  22     +         +    Correct\n",
       "2  23     -         -    Correct\n",
       "3  24     +         -      Wrong\n",
       "4  25     +         +    Correct"
      ]
     },
     "metadata": {},
     "output_type": "display_data"
    },
    {
     "name": "stdout",
     "output_type": "stream",
     "text": [
      "Error Rate: 0.2\n"
     ]
    }
   ],
   "source": [
    "ef = {'ID': [21, 22, 23, 24, 25], 'Class': ['+', '+', '-', '+', '+'], 'Predicted': ['+', '+', '-', '-', '+'], \n",
    "      'is_correct': ['Correct', 'Correct', 'Correct', 'Wrong', 'Correct']}\n",
    "error = pd.DataFrame(ef)\n",
    "display(error)\n",
    "print('Error Rate:', 1/5)"
   ]
  },
  {
   "cell_type": "markdown",
   "metadata": {},
   "source": [
    "Since the error rate decreased after removing node C, we keep the change.\n",
    "\n",
    "**4) Remove node A.**\n",
    "\n",
    "The majority class at node A is -\n",
    "\n",
    "![title](img/pruning4.png)\n"
   ]
  },
  {
   "cell_type": "code",
   "execution_count": 31,
   "metadata": {},
   "outputs": [
    {
     "data": {
      "text/html": [
       "<div>\n",
       "<style scoped>\n",
       "    .dataframe tbody tr th:only-of-type {\n",
       "        vertical-align: middle;\n",
       "    }\n",
       "\n",
       "    .dataframe tbody tr th {\n",
       "        vertical-align: top;\n",
       "    }\n",
       "\n",
       "    .dataframe thead th {\n",
       "        text-align: right;\n",
       "    }\n",
       "</style>\n",
       "<table border=\"1\" class=\"dataframe\">\n",
       "  <thead>\n",
       "    <tr style=\"text-align: right;\">\n",
       "      <th></th>\n",
       "      <th>ID</th>\n",
       "      <th>Class</th>\n",
       "      <th>Predicted</th>\n",
       "      <th>is_correct</th>\n",
       "    </tr>\n",
       "  </thead>\n",
       "  <tbody>\n",
       "    <tr>\n",
       "      <th>0</th>\n",
       "      <td>21</td>\n",
       "      <td>+</td>\n",
       "      <td>-</td>\n",
       "      <td>Wrong</td>\n",
       "    </tr>\n",
       "    <tr>\n",
       "      <th>1</th>\n",
       "      <td>22</td>\n",
       "      <td>+</td>\n",
       "      <td>-</td>\n",
       "      <td>Wrong</td>\n",
       "    </tr>\n",
       "    <tr>\n",
       "      <th>2</th>\n",
       "      <td>23</td>\n",
       "      <td>-</td>\n",
       "      <td>-</td>\n",
       "      <td>Correct</td>\n",
       "    </tr>\n",
       "    <tr>\n",
       "      <th>3</th>\n",
       "      <td>24</td>\n",
       "      <td>+</td>\n",
       "      <td>-</td>\n",
       "      <td>Wrong</td>\n",
       "    </tr>\n",
       "    <tr>\n",
       "      <th>4</th>\n",
       "      <td>25</td>\n",
       "      <td>+</td>\n",
       "      <td>-</td>\n",
       "      <td>Wrong</td>\n",
       "    </tr>\n",
       "  </tbody>\n",
       "</table>\n",
       "</div>"
      ],
      "text/plain": [
       "   ID Class Predicted is_correct\n",
       "0  21     +         -      Wrong\n",
       "1  22     +         -      Wrong\n",
       "2  23     -         -    Correct\n",
       "3  24     +         -      Wrong\n",
       "4  25     +         -      Wrong"
      ]
     },
     "metadata": {},
     "output_type": "display_data"
    },
    {
     "name": "stdout",
     "output_type": "stream",
     "text": [
      "Error Rate: 0.8\n"
     ]
    }
   ],
   "source": [
    "ef = {'ID': [21, 22, 23, 24, 25], 'Class': ['+', '+', '-', '+', '+'], 'Predicted': ['-', '-', '-', '-', '-'], \n",
    "      'is_correct': ['Wrong', 'Wrong', 'Correct', 'Wrong', 'Wrong']}\n",
    "error = pd.DataFrame(ef)\n",
    "display(error)\n",
    "print('Error Rate:', 4/5)"
   ]
  },
  {
   "cell_type": "markdown",
   "metadata": {},
   "source": [
    "Since the error rate increased after removing node A, we discard this change.\n",
    "\n",
    "**Final Tree:**\n",
    "\n",
    "![title](img/pruning5.png)\n",
    "\n"
   ]
  },
  {
   "cell_type": "code",
   "execution_count": null,
   "metadata": {},
   "outputs": [],
   "source": []
  }
 ],
 "metadata": {
  "kernelspec": {
   "display_name": "Python 3",
   "language": "python",
   "name": "python3"
  },
  "language_info": {
   "codemirror_mode": {
    "name": "ipython",
    "version": 3
   },
   "file_extension": ".py",
   "mimetype": "text/x-python",
   "name": "python",
   "nbconvert_exporter": "python",
   "pygments_lexer": "ipython3",
   "version": "3.7.3"
  }
 },
 "nbformat": 4,
 "nbformat_minor": 2
}
