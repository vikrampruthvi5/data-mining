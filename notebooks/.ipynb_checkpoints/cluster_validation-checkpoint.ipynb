{
 "cells": [
  {
   "cell_type": "markdown",
   "metadata": {},
   "source": [
    "# Rand Index and Jaccard Coefficient"
   ]
  },
  {
   "cell_type": "markdown",
   "metadata": {},
   "source": [
    "Rand Index and Jaccard are external cluster validation measures to asses cluster quality. They use a series of decisions to produce a measure a number between 0 and 1 (higher values are better). Each pair of points is considered and a decision is made for each pair. Since we consider pairs of points, for a dataset with n points, the **total number of decisions is (n(n-1))/2.** Example: If there are 3 points x1, x2, x3, then the possible combinations are [x1, x2], [x1, x3], [x2, x3], which is (3(3-1))/2 = 3.\n",
    "\n",
    "The decisions are:\n",
    "1. Does this pair belong in the same cluster (same class labels)?\n",
    "2. Does this pair belong in separate clusters (different class labels)?\n",
    "\n",
    "Example:\n",
    "\n",
    "Class labels = {A: x1, x2, B: x3, x4}\n",
    "\n",
    "Cluster assignments = {X1: x1, x2, x3 X2: x4}\n",
    "\n",
    "To calculate the Rand Index for the above clustering result, we take each pair and check if the clustering decision is correct."
   ]
  },
  {
   "cell_type": "code",
   "execution_count": 124,
   "metadata": {},
   "outputs": [
    {
     "data": {
      "text/html": [
       "<div>\n",
       "<style scoped>\n",
       "    .dataframe tbody tr th:only-of-type {\n",
       "        vertical-align: middle;\n",
       "    }\n",
       "\n",
       "    .dataframe tbody tr th {\n",
       "        vertical-align: top;\n",
       "    }\n",
       "\n",
       "    .dataframe thead th {\n",
       "        text-align: right;\n",
       "    }\n",
       "</style>\n",
       "<table border=\"1\" class=\"dataframe\">\n",
       "  <thead>\n",
       "    <tr style=\"text-align: right;\">\n",
       "      <th></th>\n",
       "      <th>pairs</th>\n",
       "      <th>decision</th>\n",
       "    </tr>\n",
       "  </thead>\n",
       "  <tbody>\n",
       "    <tr>\n",
       "      <th>0</th>\n",
       "      <td>x1, x2</td>\n",
       "      <td>clustered together?</td>\n",
       "    </tr>\n",
       "    <tr>\n",
       "      <th>1</th>\n",
       "      <td>x1, x3</td>\n",
       "      <td>clustered separate?</td>\n",
       "    </tr>\n",
       "    <tr>\n",
       "      <th>2</th>\n",
       "      <td>x1, x4</td>\n",
       "      <td>clustered separate?</td>\n",
       "    </tr>\n",
       "    <tr>\n",
       "      <th>3</th>\n",
       "      <td>x2, x3</td>\n",
       "      <td>clustered separate?</td>\n",
       "    </tr>\n",
       "    <tr>\n",
       "      <th>4</th>\n",
       "      <td>x2, x4</td>\n",
       "      <td>clustered separate?</td>\n",
       "    </tr>\n",
       "    <tr>\n",
       "      <th>5</th>\n",
       "      <td>x3, x4</td>\n",
       "      <td>clustered together?</td>\n",
       "    </tr>\n",
       "  </tbody>\n",
       "</table>\n",
       "</div>"
      ],
      "text/plain": [
       "    pairs             decision\n",
       "0  x1, x2  clustered together?\n",
       "1  x1, x3  clustered separate?\n",
       "2  x1, x4  clustered separate?\n",
       "3  x2, x3  clustered separate?\n",
       "4  x2, x4  clustered separate?\n",
       "5  x3, x4  clustered together?"
      ]
     },
     "execution_count": 124,
     "metadata": {},
     "output_type": "execute_result"
    }
   ],
   "source": [
    "import pandas as pd\n",
    "import numpy as np\n",
    "import matplotlib.pyplot as plt\n",
    "import seaborn as sns\n",
    "sns.set()\n",
    "\n",
    "df = {'pairs': ['x1, x2', 'x1, x3', 'x1, x4', 'x2, x3', 'x2, x4', 'x3, x4'],\n",
    "     'decision': ['clustered together?', 'clustered separate?', 'clustered separate?', 'clustered separate?', 'clustered separate?', 'clustered together?']}\n",
    "df = pd.DataFrame(df)\n",
    "df"
   ]
  },
  {
   "cell_type": "markdown",
   "metadata": {},
   "source": [
    "The decisions are based on the class labels. Example: [x1 x2] have the same class label, so they belong together, which means we check if the clustering algorithm placed them together in the same cluster. For [x1 x3], they have different labels, so they belong in different clusters, which means we check if the algorithm placed them in different clusters.\n",
    "\n",
    "The following are the situations that can happen: \n",
    "\n",
    "**True Positive:** A pair of points have been clustered together, and they have the same class label (they belong together).\n",
    "\n",
    "**True Negative:** A pair of points have been clustered separately, and they have different class labels (they belong in different clusters).\n",
    "\n",
    "**False Positive:** A pair of points have been clustered together, but they have different class labels (they belong in different clusters).\n",
    "\n",
    "**False Negative:** A pair of points have been clustered separately, but they have the same class label (they belong together)."
   ]
  },
  {
   "cell_type": "code",
   "execution_count": 125,
   "metadata": {},
   "outputs": [
    {
     "data": {
      "text/html": [
       "<div>\n",
       "<style scoped>\n",
       "    .dataframe tbody tr th:only-of-type {\n",
       "        vertical-align: middle;\n",
       "    }\n",
       "\n",
       "    .dataframe tbody tr th {\n",
       "        vertical-align: top;\n",
       "    }\n",
       "\n",
       "    .dataframe thead th {\n",
       "        text-align: right;\n",
       "    }\n",
       "</style>\n",
       "<table border=\"1\" class=\"dataframe\">\n",
       "  <thead>\n",
       "    <tr style=\"text-align: right;\">\n",
       "      <th></th>\n",
       "      <th>pairs</th>\n",
       "      <th>decision</th>\n",
       "      <th>result</th>\n",
       "    </tr>\n",
       "  </thead>\n",
       "  <tbody>\n",
       "    <tr>\n",
       "      <th>0</th>\n",
       "      <td>x1, x2</td>\n",
       "      <td>clustered together?</td>\n",
       "      <td>TP</td>\n",
       "    </tr>\n",
       "    <tr>\n",
       "      <th>1</th>\n",
       "      <td>x1, x3</td>\n",
       "      <td>clustered separate?</td>\n",
       "      <td>FP</td>\n",
       "    </tr>\n",
       "    <tr>\n",
       "      <th>2</th>\n",
       "      <td>x1, x4</td>\n",
       "      <td>clustered separate?</td>\n",
       "      <td>TN</td>\n",
       "    </tr>\n",
       "    <tr>\n",
       "      <th>3</th>\n",
       "      <td>x2, x3</td>\n",
       "      <td>clustered separate?</td>\n",
       "      <td>FP</td>\n",
       "    </tr>\n",
       "    <tr>\n",
       "      <th>4</th>\n",
       "      <td>x2, x4</td>\n",
       "      <td>clustered separate?</td>\n",
       "      <td>TN</td>\n",
       "    </tr>\n",
       "    <tr>\n",
       "      <th>5</th>\n",
       "      <td>x3, x4</td>\n",
       "      <td>clustered together?</td>\n",
       "      <td>FN</td>\n",
       "    </tr>\n",
       "  </tbody>\n",
       "</table>\n",
       "</div>"
      ],
      "text/plain": [
       "    pairs             decision result\n",
       "0  x1, x2  clustered together?     TP\n",
       "1  x1, x3  clustered separate?     FP\n",
       "2  x1, x4  clustered separate?     TN\n",
       "3  x2, x3  clustered separate?     FP\n",
       "4  x2, x4  clustered separate?     TN\n",
       "5  x3, x4  clustered together?     FN"
      ]
     },
     "execution_count": 125,
     "metadata": {},
     "output_type": "execute_result"
    }
   ],
   "source": [
    "df = pd.concat([df, pd.Series(['TP', 'FP', 'TN', 'FP', 'TN', 'FN']).rename('result')], axis=1)\n",
    "df"
   ]
  },
  {
   "cell_type": "markdown",
   "metadata": {},
   "source": [
    "### Rand Index = (TP + TN) / (TP + TN + FP + FN) = 3/6 = 0.5\n",
    "### Jaccard = TP / (TP + FP + FN) = 1/4 = 0.25"
   ]
  },
  {
   "cell_type": "code",
   "execution_count": null,
   "metadata": {},
   "outputs": [],
   "source": []
  },
  {
   "cell_type": "markdown",
   "metadata": {},
   "source": [
    "**Given are 15 instances {x1, . . . , x15} and three classes {A, B, C}**\n",
    "\n",
    "**The class assignment is as follows: A : {x1, x2, x3, x4, x5}, B : {x6, x7, x8, x9, x10}, C : {x11, x12, x13, x14, x15}.**\n",
    "\n",
    "**Executing K-Means with (a) K = 3 and (b) K = 5 results in the two (imperfect) clusterings Z1 and Z2:**\n",
    "\n",
    "**Z1:**\n",
    "\n",
    "**X1 = {x1, x2, x3}**\n",
    "\n",
    "**X2 = {x5, x6, x7, x9, x10, x15}**\n",
    "\n",
    "**X3 = {x4, x8, x11, x12, x13, x14}**\n",
    "\n",
    "**Z2:**\n",
    "\n",
    "**X1 = {x1, x2, x3}**\n",
    "\n",
    "**X2 = {x5, x6, x7}**\n",
    "\n",
    "**X3 = {x9, x10, x15}**\n",
    "\n",
    "**X4 = {x8, x11, x12}**\n",
    "\n",
    "**X5 = {x4, x13, x14}**\n",
    "\n",
    "**Compute the Rand Index and Jaccard Coefficient of both clusterings**"
   ]
  },
  {
   "cell_type": "markdown",
   "metadata": {},
   "source": [
    "This time we have 15 points instead of 4, the total number of decisions will be (15(15-1))/2 = 105, which is impossible to calculate by hand, and in most situations, there will be many more points. If we have 100,000 points, the total number of decisions will be close to 5 billion, which is impossible even for a computer. \n",
    "\n",
    "There is a faster method of calculating RI and Jaccard, which uses [combinations](https://www.mathsisfun.com/combinatorics/combinations-permutations.html) "
   ]
  },
  {
   "cell_type": "markdown",
   "metadata": {},
   "source": [
    "## Combinatorial method:\n",
    "\n",
    "We will use combinations and fill a confusion matrix to calculate RI and Jaccard"
   ]
  },
  {
   "cell_type": "code",
   "execution_count": 126,
   "metadata": {},
   "outputs": [
    {
     "data": {
      "text/html": [
       "<div>\n",
       "<style scoped>\n",
       "    .dataframe tbody tr th:only-of-type {\n",
       "        vertical-align: middle;\n",
       "    }\n",
       "\n",
       "    .dataframe tbody tr th {\n",
       "        vertical-align: top;\n",
       "    }\n",
       "\n",
       "    .dataframe thead th {\n",
       "        text-align: right;\n",
       "    }\n",
       "</style>\n",
       "<table border=\"1\" class=\"dataframe\">\n",
       "  <thead>\n",
       "    <tr style=\"text-align: right;\">\n",
       "      <th></th>\n",
       "      <th>Same Cluster</th>\n",
       "      <th>Different Cluster</th>\n",
       "      <th>.</th>\n",
       "    </tr>\n",
       "    <tr>\n",
       "      <th>-</th>\n",
       "      <th></th>\n",
       "      <th></th>\n",
       "      <th></th>\n",
       "    </tr>\n",
       "  </thead>\n",
       "  <tbody>\n",
       "    <tr>\n",
       "      <th>Same Class</th>\n",
       "      <td>TP</td>\n",
       "      <td>FN</td>\n",
       "      <td>?</td>\n",
       "    </tr>\n",
       "    <tr>\n",
       "      <th>Different Class</th>\n",
       "      <td>FP</td>\n",
       "      <td>TN</td>\n",
       "      <td>?</td>\n",
       "    </tr>\n",
       "    <tr>\n",
       "      <th>.</th>\n",
       "      <td>?</td>\n",
       "      <td>?</td>\n",
       "      <td>?</td>\n",
       "    </tr>\n",
       "  </tbody>\n",
       "</table>\n",
       "</div>"
      ],
      "text/plain": [
       "                Same Cluster Different Cluster  .\n",
       "-                                                \n",
       "Same Class                TP                FN  ?\n",
       "Different Class           FP                TN  ?\n",
       ".                          ?                 ?  ?"
      ]
     },
     "execution_count": 126,
     "metadata": {},
     "output_type": "execute_result"
    }
   ],
   "source": [
    "d = {'Same Cluster': ['TP', 'FP', '?'], 'Different Cluster': ['FN', 'TN', '?'], '-': ['Same Class', 'Different Class', '.'],\n",
    "    '.': ['?', '?', '?']}\n",
    "cf = pd.DataFrame(d).set_index('-')\n",
    "cf"
   ]
  },
  {
   "cell_type": "markdown",
   "metadata": {},
   "source": [
    "Steps:\n",
    "\n",
    "1. Calculate the total number of decisions to make\n",
    "2. Pick pairs of points where both points in a pair are from the same cluster (TP + FP)\n",
    "3. Pick pairs of points where both points in a pair are from the same class (TP + FN)\n",
    "4. Pick pairs of points where both points in a pair are from the same class AND the same cluster (TP)\n",
    "5. Fill the rest of the confusion matrix to be able to calculate RI and Jaccard\n"
   ]
  },
  {
   "cell_type": "markdown",
   "metadata": {},
   "source": [
    "### Step 1\n",
    "\n",
    "**Since there are 15 points, the toal number of pairs will be 15C2 = 105**\n",
    "\n",
    "So there will be 105 decisions in total"
   ]
  },
  {
   "cell_type": "code",
   "execution_count": 127,
   "metadata": {},
   "outputs": [
    {
     "data": {
      "text/html": [
       "<div>\n",
       "<style scoped>\n",
       "    .dataframe tbody tr th:only-of-type {\n",
       "        vertical-align: middle;\n",
       "    }\n",
       "\n",
       "    .dataframe tbody tr th {\n",
       "        vertical-align: top;\n",
       "    }\n",
       "\n",
       "    .dataframe thead th {\n",
       "        text-align: right;\n",
       "    }\n",
       "</style>\n",
       "<table border=\"1\" class=\"dataframe\">\n",
       "  <thead>\n",
       "    <tr style=\"text-align: right;\">\n",
       "      <th></th>\n",
       "      <th>Same Cluster</th>\n",
       "      <th>Different Cluster</th>\n",
       "      <th>.</th>\n",
       "    </tr>\n",
       "    <tr>\n",
       "      <th>-</th>\n",
       "      <th></th>\n",
       "      <th></th>\n",
       "      <th></th>\n",
       "    </tr>\n",
       "  </thead>\n",
       "  <tbody>\n",
       "    <tr>\n",
       "      <th>Same Class</th>\n",
       "      <td>TP</td>\n",
       "      <td>FN</td>\n",
       "      <td>?</td>\n",
       "    </tr>\n",
       "    <tr>\n",
       "      <th>Different Class</th>\n",
       "      <td>FP</td>\n",
       "      <td>TN</td>\n",
       "      <td>?</td>\n",
       "    </tr>\n",
       "    <tr>\n",
       "      <th>.</th>\n",
       "      <td>?</td>\n",
       "      <td>?</td>\n",
       "      <td>105</td>\n",
       "    </tr>\n",
       "  </tbody>\n",
       "</table>\n",
       "</div>"
      ],
      "text/plain": [
       "                Same Cluster Different Cluster    .\n",
       "-                                                  \n",
       "Same Class                TP                FN    ?\n",
       "Different Class           FP                TN    ?\n",
       ".                          ?                 ?  105"
      ]
     },
     "execution_count": 127,
     "metadata": {},
     "output_type": "execute_result"
    }
   ],
   "source": [
    "d = {'Same Cluster': ['TP', 'FP', '?'], 'Different Cluster': ['FN', 'TN', '?'], '-': ['Same Class', 'Different Class', '.'],\n",
    "    '.': ['?', '?', 105]}\n",
    "cf = pd.DataFrame(d).set_index('-')\n",
    "cf"
   ]
  },
  {
   "cell_type": "markdown",
   "metadata": {},
   "source": [
    "### Step 2\n",
    "\n",
    "**To pick pairs of points where both points in a pair are in the same cluster, we pick pairs from the cluster assignments X1, X2, and X3.**\n",
    "\n",
    "**Since X1 has 3 points, X2 has 6 points, and X3 has 6 points, the total number of pairs will be 3C2 + 6C2 + 6C2**\n",
    "\n",
    "**True Positives + False Positives = 3C2 + 6C2 + 6C2 = 33**\n",
    "\n",
    "The reason this equals TP + FP is as follows: We are only picking pairs from the same cluster; i.e. we are never picking a point from X1 and another from X2. If one point is from X1, the other point in the pair is also from X1, not X2 or X3. Since we are picking pairs that are clustered together, we are inline with the first part of the definition of True Positives (**pair clustered together** and have the same label). The second part of the definition says that they should have the same label to be called a TP. Now some of the pairs that we pick will have the same label, which means they will be True Positives, while some of the pairs will have different labels, which corresponds to the definition of False Positives (pair clustered together but belong separately, i.e. different labels). So this process of picking pairs of points from the cluster assignment gives us TP + FP"
   ]
  },
  {
   "cell_type": "code",
   "execution_count": 128,
   "metadata": {},
   "outputs": [
    {
     "data": {
      "text/html": [
       "<div>\n",
       "<style scoped>\n",
       "    .dataframe tbody tr th:only-of-type {\n",
       "        vertical-align: middle;\n",
       "    }\n",
       "\n",
       "    .dataframe tbody tr th {\n",
       "        vertical-align: top;\n",
       "    }\n",
       "\n",
       "    .dataframe thead th {\n",
       "        text-align: right;\n",
       "    }\n",
       "</style>\n",
       "<table border=\"1\" class=\"dataframe\">\n",
       "  <thead>\n",
       "    <tr style=\"text-align: right;\">\n",
       "      <th></th>\n",
       "      <th>Same Cluster</th>\n",
       "      <th>Different Cluster</th>\n",
       "      <th>.</th>\n",
       "    </tr>\n",
       "    <tr>\n",
       "      <th>-</th>\n",
       "      <th></th>\n",
       "      <th></th>\n",
       "      <th></th>\n",
       "    </tr>\n",
       "  </thead>\n",
       "  <tbody>\n",
       "    <tr>\n",
       "      <th>Same Class</th>\n",
       "      <td>TP</td>\n",
       "      <td>FN</td>\n",
       "      <td>?</td>\n",
       "    </tr>\n",
       "    <tr>\n",
       "      <th>Different Class</th>\n",
       "      <td>FP</td>\n",
       "      <td>TN</td>\n",
       "      <td>?</td>\n",
       "    </tr>\n",
       "    <tr>\n",
       "      <th>.</th>\n",
       "      <td>33</td>\n",
       "      <td>?</td>\n",
       "      <td>105</td>\n",
       "    </tr>\n",
       "  </tbody>\n",
       "</table>\n",
       "</div>"
      ],
      "text/plain": [
       "                Same Cluster Different Cluster    .\n",
       "-                                                  \n",
       "Same Class                TP                FN    ?\n",
       "Different Class           FP                TN    ?\n",
       ".                         33                 ?  105"
      ]
     },
     "execution_count": 128,
     "metadata": {},
     "output_type": "execute_result"
    }
   ],
   "source": [
    "d = {'Same Cluster': ['TP', 'FP', 33], 'Different Cluster': ['FN', 'TN', '?'], '-': ['Same Class', 'Different Class', '.'],\n",
    "    '.': ['?', '?', 105]}\n",
    "cf = pd.DataFrame(d).set_index('-')\n",
    "cf"
   ]
  },
  {
   "cell_type": "markdown",
   "metadata": {},
   "source": [
    "### Step 3\n",
    "\n",
    "**To pick pairs of points where both points in a pair are in the same class, we pick pairs from the class labels A, B, and C.**\n",
    "\n",
    "**Since A, B, and C have 5 points each, the total number of pairs will be 5C2 + 5C2 + 5C2**\n",
    "\n",
    "**True Positives + False Negatives = 5C2 + 5C2 + 5C2 = 30**\n",
    "\n",
    "The reason this equals TP + FN is as follows: We are only picking pairs from the same class; i.e. we are never picking a point from class A and another from B. If one point is from A, the other point in the pair is also from A, not B or C. Since we are picking pairs that have the same label, we are inline with the second part of the definition of True Positives (pair clustered together and **have the same label**). The second part of the definition says that they should be in the same cluster to be called a TP. Now some of the pairs that we pick will be in the same cluster, which means they will be True Positives, while some of the pairs will be in different clusters, which corresponds to the definition of False Negatives (pair clustered separately but belong together, i.e. same label). So this process of picking pairs of points from the class labels gives us TP + FN"
   ]
  },
  {
   "cell_type": "code",
   "execution_count": 129,
   "metadata": {},
   "outputs": [
    {
     "data": {
      "text/html": [
       "<div>\n",
       "<style scoped>\n",
       "    .dataframe tbody tr th:only-of-type {\n",
       "        vertical-align: middle;\n",
       "    }\n",
       "\n",
       "    .dataframe tbody tr th {\n",
       "        vertical-align: top;\n",
       "    }\n",
       "\n",
       "    .dataframe thead th {\n",
       "        text-align: right;\n",
       "    }\n",
       "</style>\n",
       "<table border=\"1\" class=\"dataframe\">\n",
       "  <thead>\n",
       "    <tr style=\"text-align: right;\">\n",
       "      <th></th>\n",
       "      <th>Same Cluster</th>\n",
       "      <th>Different Cluster</th>\n",
       "      <th>.</th>\n",
       "    </tr>\n",
       "    <tr>\n",
       "      <th>-</th>\n",
       "      <th></th>\n",
       "      <th></th>\n",
       "      <th></th>\n",
       "    </tr>\n",
       "  </thead>\n",
       "  <tbody>\n",
       "    <tr>\n",
       "      <th>Same Class</th>\n",
       "      <td>TP</td>\n",
       "      <td>FN</td>\n",
       "      <td>30</td>\n",
       "    </tr>\n",
       "    <tr>\n",
       "      <th>Different Class</th>\n",
       "      <td>FP</td>\n",
       "      <td>TN</td>\n",
       "      <td>?</td>\n",
       "    </tr>\n",
       "    <tr>\n",
       "      <th>.</th>\n",
       "      <td>33</td>\n",
       "      <td>?</td>\n",
       "      <td>105</td>\n",
       "    </tr>\n",
       "  </tbody>\n",
       "</table>\n",
       "</div>"
      ],
      "text/plain": [
       "                Same Cluster Different Cluster    .\n",
       "-                                                  \n",
       "Same Class                TP                FN   30\n",
       "Different Class           FP                TN    ?\n",
       ".                         33                 ?  105"
      ]
     },
     "execution_count": 129,
     "metadata": {},
     "output_type": "execute_result"
    }
   ],
   "source": [
    "d = {'Same Cluster': ['TP', 'FP', 33], 'Different Cluster': ['FN', 'TN', '?'], '-': ['Same Class', 'Different Class', '.'],\n",
    "    '.': [30, '?', 105]}\n",
    "cf = pd.DataFrame(d).set_index('-')\n",
    "cf"
   ]
  },
  {
   "cell_type": "markdown",
   "metadata": {},
   "source": [
    "### Step 4\n",
    "\n",
    "**To pick pairs of points where both points in a pair are in the same class and also clustered together (Example: x1 and x2 are from class A and are in cluster X1), we will pick pairs of points from each cluster, but both points in the pairs must have the same class label. These are the class labels in the cluster assignments:**\n",
    "\n",
    "X1 = {A A A}\n",
    "\n",
    "X2 = {A B B B B C}\n",
    "\n",
    "X3 = {A B C C C C}\n",
    "\n",
    "For X1, the three points from class A will make 3C2 pairs\n",
    "\n",
    "For X2, the 4 points from class B will make 4C2 pairs\n",
    "\n",
    "For X3, the 4 points from class C will make 4C2 pairs\n",
    "\n",
    "**So, True Positives = 3C2 + 4C2 + 4C2 = 15**"
   ]
  },
  {
   "cell_type": "markdown",
   "metadata": {},
   "source": [
    "### Step 5\n",
    "\n",
    "Fill in the rest of the confusion matrix"
   ]
  },
  {
   "cell_type": "code",
   "execution_count": 130,
   "metadata": {},
   "outputs": [
    {
     "data": {
      "text/html": [
       "<div>\n",
       "<style scoped>\n",
       "    .dataframe tbody tr th:only-of-type {\n",
       "        vertical-align: middle;\n",
       "    }\n",
       "\n",
       "    .dataframe tbody tr th {\n",
       "        vertical-align: top;\n",
       "    }\n",
       "\n",
       "    .dataframe thead th {\n",
       "        text-align: right;\n",
       "    }\n",
       "</style>\n",
       "<table border=\"1\" class=\"dataframe\">\n",
       "  <thead>\n",
       "    <tr style=\"text-align: right;\">\n",
       "      <th></th>\n",
       "      <th>Same Cluster</th>\n",
       "      <th>Different Cluster</th>\n",
       "      <th>.</th>\n",
       "    </tr>\n",
       "    <tr>\n",
       "      <th>-</th>\n",
       "      <th></th>\n",
       "      <th></th>\n",
       "      <th></th>\n",
       "    </tr>\n",
       "  </thead>\n",
       "  <tbody>\n",
       "    <tr>\n",
       "      <th>Same Class</th>\n",
       "      <td>15</td>\n",
       "      <td>15</td>\n",
       "      <td>30</td>\n",
       "    </tr>\n",
       "    <tr>\n",
       "      <th>Different Class</th>\n",
       "      <td>18</td>\n",
       "      <td>57</td>\n",
       "      <td>?</td>\n",
       "    </tr>\n",
       "    <tr>\n",
       "      <th>.</th>\n",
       "      <td>33</td>\n",
       "      <td>?</td>\n",
       "      <td>105</td>\n",
       "    </tr>\n",
       "  </tbody>\n",
       "</table>\n",
       "</div>"
      ],
      "text/plain": [
       "                 Same Cluster Different Cluster    .\n",
       "-                                                   \n",
       "Same Class                 15                15   30\n",
       "Different Class            18                57    ?\n",
       ".                          33                 ?  105"
      ]
     },
     "execution_count": 130,
     "metadata": {},
     "output_type": "execute_result"
    }
   ],
   "source": [
    "d = {'Same Cluster': [15, 18, 33], 'Different Cluster': [15, 57, '?'], '-': ['Same Class', 'Different Class', '.'],\n",
    "    '.': [30, '?', 105]}\n",
    "cf = pd.DataFrame(d).set_index('-')\n",
    "cf"
   ]
  },
  {
   "cell_type": "markdown",
   "metadata": {},
   "source": [
    "### Rand Index (Z1) = (TP + TN) / (TP + TN + FP + FN) = (15 + 57) / (15+57+15+18) = 0.686\n",
    "### Jaccard (Z1) = TP / (TP + FP + FN) = 15 / (15 + 18 + 15) = 0.313\n",
    "\n",
    "Follow the above steps to calculate RI and J for Z2 as well \n",
    "\n",
    "### Rand Index (Z2) = 0.705\n",
    "### Jaccard (Z2) = 0.184"
   ]
  },
  {
   "cell_type": "code",
   "execution_count": null,
   "metadata": {},
   "outputs": [],
   "source": []
  },
  {
   "cell_type": "markdown",
   "metadata": {},
   "source": [
    "# Cohesion and Separation\n",
    "\n",
    "Calculate cohesion and separation for all clusters in Z1 assuming the data points have the following coordinates:\n",
    "\n",
    "Cohesion and Separation is defined as follows:\n",
    "\n",
    "![cohesionseparation](img/cohesion_separation.png)"
   ]
  },
  {
   "cell_type": "markdown",
   "metadata": {},
   "source": [
    "# IMPORTANT: For the calculation of cohesion and separation, follow the steps shown here. Please do not normalize the distances. Follow the exact formulae and steps below. The values are confirmed correct"
   ]
  },
  {
   "cell_type": "code",
   "execution_count": 131,
   "metadata": {},
   "outputs": [
    {
     "data": {
      "text/html": [
       "<div>\n",
       "<style scoped>\n",
       "    .dataframe tbody tr th:only-of-type {\n",
       "        vertical-align: middle;\n",
       "    }\n",
       "\n",
       "    .dataframe tbody tr th {\n",
       "        vertical-align: top;\n",
       "    }\n",
       "\n",
       "    .dataframe thead th {\n",
       "        text-align: right;\n",
       "    }\n",
       "</style>\n",
       "<table border=\"1\" class=\"dataframe\">\n",
       "  <thead>\n",
       "    <tr style=\"text-align: right;\">\n",
       "      <th></th>\n",
       "      <th>point</th>\n",
       "      <th>x</th>\n",
       "      <th>y</th>\n",
       "      <th>cluster</th>\n",
       "    </tr>\n",
       "  </thead>\n",
       "  <tbody>\n",
       "    <tr>\n",
       "      <th>0</th>\n",
       "      <td>x1</td>\n",
       "      <td>1</td>\n",
       "      <td>4</td>\n",
       "      <td>X1</td>\n",
       "    </tr>\n",
       "    <tr>\n",
       "      <th>1</th>\n",
       "      <td>x2</td>\n",
       "      <td>2</td>\n",
       "      <td>5</td>\n",
       "      <td>X1</td>\n",
       "    </tr>\n",
       "    <tr>\n",
       "      <th>2</th>\n",
       "      <td>x3</td>\n",
       "      <td>2</td>\n",
       "      <td>4</td>\n",
       "      <td>X1</td>\n",
       "    </tr>\n",
       "    <tr>\n",
       "      <th>3</th>\n",
       "      <td>x4</td>\n",
       "      <td>3</td>\n",
       "      <td>3</td>\n",
       "      <td>X3</td>\n",
       "    </tr>\n",
       "    <tr>\n",
       "      <th>4</th>\n",
       "      <td>x5</td>\n",
       "      <td>3</td>\n",
       "      <td>4</td>\n",
       "      <td>X2</td>\n",
       "    </tr>\n",
       "    <tr>\n",
       "      <th>5</th>\n",
       "      <td>x6</td>\n",
       "      <td>4</td>\n",
       "      <td>1</td>\n",
       "      <td>X2</td>\n",
       "    </tr>\n",
       "    <tr>\n",
       "      <th>6</th>\n",
       "      <td>x7</td>\n",
       "      <td>5</td>\n",
       "      <td>2</td>\n",
       "      <td>X2</td>\n",
       "    </tr>\n",
       "    <tr>\n",
       "      <th>7</th>\n",
       "      <td>x8</td>\n",
       "      <td>6</td>\n",
       "      <td>4</td>\n",
       "      <td>X3</td>\n",
       "    </tr>\n",
       "    <tr>\n",
       "      <th>8</th>\n",
       "      <td>x9</td>\n",
       "      <td>6</td>\n",
       "      <td>1</td>\n",
       "      <td>X2</td>\n",
       "    </tr>\n",
       "    <tr>\n",
       "      <th>9</th>\n",
       "      <td>x10</td>\n",
       "      <td>5</td>\n",
       "      <td>1</td>\n",
       "      <td>X2</td>\n",
       "    </tr>\n",
       "    <tr>\n",
       "      <th>10</th>\n",
       "      <td>x11</td>\n",
       "      <td>4</td>\n",
       "      <td>4</td>\n",
       "      <td>X3</td>\n",
       "    </tr>\n",
       "    <tr>\n",
       "      <th>11</th>\n",
       "      <td>x12</td>\n",
       "      <td>5</td>\n",
       "      <td>5</td>\n",
       "      <td>X3</td>\n",
       "    </tr>\n",
       "    <tr>\n",
       "      <th>12</th>\n",
       "      <td>x13</td>\n",
       "      <td>6</td>\n",
       "      <td>6</td>\n",
       "      <td>X3</td>\n",
       "    </tr>\n",
       "    <tr>\n",
       "      <th>13</th>\n",
       "      <td>x14</td>\n",
       "      <td>4</td>\n",
       "      <td>5</td>\n",
       "      <td>X3</td>\n",
       "    </tr>\n",
       "    <tr>\n",
       "      <th>14</th>\n",
       "      <td>x15</td>\n",
       "      <td>4</td>\n",
       "      <td>3</td>\n",
       "      <td>X2</td>\n",
       "    </tr>\n",
       "  </tbody>\n",
       "</table>\n",
       "</div>"
      ],
      "text/plain": [
       "   point  x  y cluster\n",
       "0     x1  1  4      X1\n",
       "1     x2  2  5      X1\n",
       "2     x3  2  4      X1\n",
       "3     x4  3  3      X3\n",
       "4     x5  3  4      X2\n",
       "5     x6  4  1      X2\n",
       "6     x7  5  2      X2\n",
       "7     x8  6  4      X3\n",
       "8     x9  6  1      X2\n",
       "9    x10  5  1      X2\n",
       "10   x11  4  4      X3\n",
       "11   x12  5  5      X3\n",
       "12   x13  6  6      X3\n",
       "13   x14  4  5      X3\n",
       "14   x15  4  3      X2"
      ]
     },
     "execution_count": 131,
     "metadata": {},
     "output_type": "execute_result"
    }
   ],
   "source": [
    "cs_dict = {'point': ['x1', 'x2', 'x3', 'x4', 'x5', 'x6', 'x7', 'x8', 'x9', 'x10', 'x11', 'x12', 'x13', 'x14', 'x15'], \n",
    "           'x': [1, 2, 2, 3, 3, 4, 5, 6, 6, 5, 4, 5, 6, 4, 4], \n",
    "           'y': [4, 5, 4, 3, 4, 1, 2, 4, 1, 1, 4, 5, 6, 5, 3],\n",
    "           'cluster': ['X1', 'X1', 'X1', 'X3', 'X2', 'X2', 'X2', 'X3', 'X2', 'X2', 'X3', 'X3', 'X3', 'X3', 'X2']}\n",
    "cs = pd.DataFrame(cs_dict)\n",
    "cs"
   ]
  },
  {
   "cell_type": "markdown",
   "metadata": {},
   "source": [
    "## Step 1) Calculate the cluster centroids"
   ]
  },
  {
   "cell_type": "code",
   "execution_count": 132,
   "metadata": {},
   "outputs": [
    {
     "data": {
      "text/html": [
       "<div>\n",
       "<style scoped>\n",
       "    .dataframe tbody tr th:only-of-type {\n",
       "        vertical-align: middle;\n",
       "    }\n",
       "\n",
       "    .dataframe tbody tr th {\n",
       "        vertical-align: top;\n",
       "    }\n",
       "\n",
       "    .dataframe thead th {\n",
       "        text-align: right;\n",
       "    }\n",
       "</style>\n",
       "<table border=\"1\" class=\"dataframe\">\n",
       "  <thead>\n",
       "    <tr style=\"text-align: right;\">\n",
       "      <th></th>\n",
       "      <th>cluster</th>\n",
       "      <th>x</th>\n",
       "      <th>y</th>\n",
       "    </tr>\n",
       "  </thead>\n",
       "  <tbody>\n",
       "    <tr>\n",
       "      <th>0</th>\n",
       "      <td>X1</td>\n",
       "      <td>1.666667</td>\n",
       "      <td>4.333333</td>\n",
       "    </tr>\n",
       "    <tr>\n",
       "      <th>1</th>\n",
       "      <td>X2</td>\n",
       "      <td>4.500000</td>\n",
       "      <td>2.000000</td>\n",
       "    </tr>\n",
       "    <tr>\n",
       "      <th>2</th>\n",
       "      <td>X3</td>\n",
       "      <td>4.666667</td>\n",
       "      <td>4.500000</td>\n",
       "    </tr>\n",
       "  </tbody>\n",
       "</table>\n",
       "</div>"
      ],
      "text/plain": [
       "  cluster         x         y\n",
       "0      X1  1.666667  4.333333\n",
       "1      X2  4.500000  2.000000\n",
       "2      X3  4.666667  4.500000"
      ]
     },
     "execution_count": 132,
     "metadata": {},
     "output_type": "execute_result"
    }
   ],
   "source": [
    "centroids_dict = {'cluster': ['X1', 'X2', 'X3'],\n",
    "                  'x': [cs[cs['cluster'] == 'X1'].x.mean(), cs[cs['cluster'] == 'X2'].x.mean(), cs[cs['cluster'] == 'X3'].x.mean()],\n",
    "                  'y': [cs[cs['cluster'] == 'X1'].y.mean(), cs[cs['cluster'] == 'X2'].y.mean(), cs[cs['cluster'] == 'X3'].y.mean()]}\n",
    "centroids = pd.DataFrame(centroids_dict)\n",
    "centroids"
   ]
  },
  {
   "cell_type": "markdown",
   "metadata": {},
   "source": [
    "## Step 2) To calculate cohesion of a cluster, calculate the average distances of points to the cluster centroid.\n",
    "\n",
    "**Example:** For cluster X1, the points are x1:(1, 4), x2:(2, 5), x3(2, 4), and the cluster centroid is at (1.666667, 4.333333)\n",
    "\n",
    "d(x1, centroid(X1) = 0.745356\n",
    "\n",
    "d(x2, centroid(X1) = 0.745356 \n",
    "\n",
    "d(x3, centroid(X1) = 0.471404\n",
    "\n",
    "Average = 0.65403884 (Cohesion of X1)\n",
    "\n",
    "Follow the same procedure for the remaining clusters"
   ]
  },
  {
   "cell_type": "code",
   "execution_count": 133,
   "metadata": {},
   "outputs": [],
   "source": [
    "cohesion_X1 = 0.0\n",
    "cohesion_X2 = 0.0\n",
    "cohesion_X3 = 0.0\n",
    "\n",
    "for index, row in cs[cs['cluster'] == 'X1'].iterrows():\n",
    "    cohesion_X1 += np.sqrt((row.x - centroids[centroids['cluster'] == 'X1'].x)**2 + (row.y - centroids[centroids['cluster'] == 'X1'].y)**2)\n",
    "cohesion_X1 /= np.sum(cs['cluster'] == 'X1')\n",
    "\n",
    "for index, row in cs[cs['cluster'] == 'X2'].iterrows():\n",
    "    cohesion_X2 += np.sqrt((row.x - centroids[centroids['cluster'] == 'X2'].x)**2 + (row.y - centroids[centroids['cluster'] == 'X2'].y)**2)\n",
    "cohesion_X2 /= np.sum(cs['cluster'] == 'X2')\n",
    "\n",
    "for index, row in cs[cs['cluster'] == 'X3'].iterrows():\n",
    "    cohesion_X3 += np.sqrt((row.x - centroids[centroids['cluster'] == 'X3'].x)**2 + (row.y - centroids[centroids['cluster'] == 'X3'].y)**2)\n",
    "cohesion_X3 /= np.sum(cs['cluster'] == 'X3')"
   ]
  },
  {
   "cell_type": "code",
   "execution_count": 134,
   "metadata": {},
   "outputs": [
    {
     "name": "stdout",
     "output_type": "stream",
     "text": [
      "Cohesion of X1: [0.65403884]\n",
      "Cohesion of X2: [1.3594796]\n",
      "Cohesion of X3: [1.32346593]\n"
     ]
    }
   ],
   "source": [
    "print('Cohesion of X1:', cohesion_X1.values)\n",
    "print('Cohesion of X2:', cohesion_X2.values)\n",
    "print('Cohesion of X3:', cohesion_X3.values)"
   ]
  },
  {
   "cell_type": "markdown",
   "metadata": {},
   "source": [
    "## Step 3) To calculate separation of a cluster, calculate the average distances of the cluster centroid to the centroids of the other clusters.\n",
    "\n",
    "**Example:** \n",
    "\n",
    "For cluster X1, the centroid is located at (1.666667, 4.333333)\n",
    "For cluster X2, the centroid is located at (4.500000, 2.000000)\n",
    "For cluster X3, the centroid is located at (4.666667, 4.500000)\n",
    "\n",
    "d(centroid(X1), centroid(X2) = 3.670452\n",
    "\n",
    "d(centroid(X1), centroid(X3) = 3.004626\n",
    "\n",
    "Average = 3.338 (Separation of X1)\n",
    "\n",
    "Follow the same procedure for the remaining clusters"
   ]
  },
  {
   "cell_type": "code",
   "execution_count": 135,
   "metadata": {},
   "outputs": [],
   "source": [
    "d_X1_X2 = np.sqrt((centroids[centroids['cluster'] == 'X1'].x.values - centroids[centroids['cluster'] == 'X2'].x.values)**2 + \n",
    "                  (centroids[centroids['cluster'] == 'X1'].y.values - centroids[centroids['cluster'] == 'X2'].y.values)**2)\n",
    "\n",
    "d_X1_X3 = np.sqrt((centroids[centroids['cluster'] == 'X1'].x.values - centroids[centroids['cluster'] == 'X3'].x.values)**2 + \n",
    "                  (centroids[centroids['cluster'] == 'X1'].y.values - centroids[centroids['cluster'] == 'X3'].y.values)**2)\n",
    "                  \n",
    "d_X2_X3 = np.sqrt((centroids[centroids['cluster'] == 'X2'].x.values - centroids[centroids['cluster'] == 'X3'].x.values)**2 + \n",
    "                  (centroids[centroids['cluster'] == 'X2'].y.values - centroids[centroids['cluster'] == 'X3'].y.values)**2)\n",
    "                  \n",
    "separation_X1 = (d_X1_X2 + d_X1_X3) / 2\n",
    "separation_X2 = (d_X1_X2 + d_X2_X3) / 2\n",
    "separation_X3 = (d_X2_X3 + d_X1_X3) / 2                "
   ]
  },
  {
   "cell_type": "code",
   "execution_count": 136,
   "metadata": {},
   "outputs": [
    {
     "name": "stdout",
     "output_type": "stream",
     "text": [
      "Separation of X1: [3.33753933]\n",
      "Separation of X2: [3.08800099]\n",
      "Separation of X3: [2.75508773]\n"
     ]
    }
   ],
   "source": [
    "print('Separation of X1:', separation_X1)\n",
    "print('Separation of X2:', separation_X2)\n",
    "print('Separation of X3:', separation_X3)"
   ]
  },
  {
   "cell_type": "markdown",
   "metadata": {},
   "source": [
    "## Final Cohesion and Separation values for each cluster"
   ]
  },
  {
   "cell_type": "code",
   "execution_count": 147,
   "metadata": {},
   "outputs": [
    {
     "data": {
      "text/html": [
       "<div>\n",
       "<style scoped>\n",
       "    .dataframe tbody tr th:only-of-type {\n",
       "        vertical-align: middle;\n",
       "    }\n",
       "\n",
       "    .dataframe tbody tr th {\n",
       "        vertical-align: top;\n",
       "    }\n",
       "\n",
       "    .dataframe thead th {\n",
       "        text-align: right;\n",
       "    }\n",
       "</style>\n",
       "<table border=\"1\" class=\"dataframe\">\n",
       "  <thead>\n",
       "    <tr style=\"text-align: right;\">\n",
       "      <th></th>\n",
       "      <th>Cluster</th>\n",
       "      <th>Cohesion</th>\n",
       "      <th>Separation</th>\n",
       "    </tr>\n",
       "  </thead>\n",
       "  <tbody>\n",
       "    <tr>\n",
       "      <th>0</th>\n",
       "      <td>X1</td>\n",
       "      <td>0.654039</td>\n",
       "      <td>3.337539</td>\n",
       "    </tr>\n",
       "    <tr>\n",
       "      <th>1</th>\n",
       "      <td>X2</td>\n",
       "      <td>1.359480</td>\n",
       "      <td>3.088001</td>\n",
       "    </tr>\n",
       "    <tr>\n",
       "      <th>2</th>\n",
       "      <td>X3</td>\n",
       "      <td>1.323466</td>\n",
       "      <td>2.755088</td>\n",
       "    </tr>\n",
       "  </tbody>\n",
       "</table>\n",
       "</div>"
      ],
      "text/plain": [
       "  Cluster  Cohesion  Separation\n",
       "0      X1  0.654039    3.337539\n",
       "1      X2  1.359480    3.088001\n",
       "2      X3  1.323466    2.755088"
      ]
     },
     "execution_count": 147,
     "metadata": {},
     "output_type": "execute_result"
    }
   ],
   "source": [
    "pd.DataFrame({'Cluster': ['X1', 'X2', 'X3'],\n",
    "              'Cohesion': [cohesion_X1.values[0], cohesion_X2.values[0], cohesion_X3.values[0]],\n",
    "              'Separation': [separation_X1[0], separation_X2[0], separation_X3[0]]})"
   ]
  },
  {
   "cell_type": "code",
   "execution_count": null,
   "metadata": {},
   "outputs": [],
   "source": []
  },
  {
   "cell_type": "code",
   "execution_count": null,
   "metadata": {},
   "outputs": [],
   "source": []
  },
  {
   "cell_type": "code",
   "execution_count": null,
   "metadata": {},
   "outputs": [],
   "source": []
  }
 ],
 "metadata": {
  "kernelspec": {
   "display_name": "Python 3",
   "language": "python",
   "name": "python3"
  },
  "language_info": {
   "codemirror_mode": {
    "name": "ipython",
    "version": 3
   },
   "file_extension": ".py",
   "mimetype": "text/x-python",
   "name": "python",
   "nbconvert_exporter": "python",
   "pygments_lexer": "ipython3",
   "version": "3.7.3"
  }
 },
 "nbformat": 4,
 "nbformat_minor": 2
}
