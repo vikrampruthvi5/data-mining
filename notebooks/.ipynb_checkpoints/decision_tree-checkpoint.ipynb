{
 "cells": [
  {
   "cell_type": "code",
   "execution_count": 2,
   "metadata": {},
   "outputs": [],
   "source": [
    "import pandas as pd\n",
    "import numpy as np\n",
    "from sklearn import preprocessing\n",
    "from sklearn.tree import DecisionTreeClassifier\n",
    "from sklearn.externals.six import StringIO  \n",
    "from IPython.display import Image \n",
    "from sklearn.tree import export_graphviz\n",
    "import pydot"
   ]
  },
  {
   "cell_type": "code",
   "execution_count": 3,
   "metadata": {},
   "outputs": [],
   "source": [
    "file = '..\\data\\db.csv'\n",
    "default_borrower = pd.read_csv(file)"
   ]
  },
  {
   "cell_type": "markdown",
   "metadata": {},
   "source": [
    "### Discretize Annual Income into  [0, 100], (100, 200], (200, )"
   ]
  },
  {
   "cell_type": "code",
   "execution_count": 4,
   "metadata": {},
   "outputs": [
    {
     "data": {
      "text/html": [
       "<div>\n",
       "<style scoped>\n",
       "    .dataframe tbody tr th:only-of-type {\n",
       "        vertical-align: middle;\n",
       "    }\n",
       "\n",
       "    .dataframe tbody tr th {\n",
       "        vertical-align: top;\n",
       "    }\n",
       "\n",
       "    .dataframe thead th {\n",
       "        text-align: right;\n",
       "    }\n",
       "</style>\n",
       "<table border=\"1\" class=\"dataframe\">\n",
       "  <thead>\n",
       "    <tr style=\"text-align: right;\">\n",
       "      <th></th>\n",
       "      <th>Home Owner</th>\n",
       "      <th>Marital Status</th>\n",
       "      <th>Annual Income</th>\n",
       "      <th>Default Borrower</th>\n",
       "    </tr>\n",
       "  </thead>\n",
       "  <tbody>\n",
       "    <tr>\n",
       "      <th>0</th>\n",
       "      <td>Y</td>\n",
       "      <td>Single</td>\n",
       "      <td>(101.0, 200.0]</td>\n",
       "      <td>N</td>\n",
       "    </tr>\n",
       "    <tr>\n",
       "      <th>1</th>\n",
       "      <td>N</td>\n",
       "      <td>Married</td>\n",
       "      <td>(0.0, 100.0]</td>\n",
       "      <td>N</td>\n",
       "    </tr>\n",
       "    <tr>\n",
       "      <th>2</th>\n",
       "      <td>N</td>\n",
       "      <td>Single</td>\n",
       "      <td>(0.0, 100.0]</td>\n",
       "      <td>N</td>\n",
       "    </tr>\n",
       "    <tr>\n",
       "      <th>3</th>\n",
       "      <td>Y</td>\n",
       "      <td>Married</td>\n",
       "      <td>(101.0, 200.0]</td>\n",
       "      <td>N</td>\n",
       "    </tr>\n",
       "    <tr>\n",
       "      <th>4</th>\n",
       "      <td>N</td>\n",
       "      <td>Divorced</td>\n",
       "      <td>(0.0, 100.0]</td>\n",
       "      <td>Y</td>\n",
       "    </tr>\n",
       "    <tr>\n",
       "      <th>5</th>\n",
       "      <td>N</td>\n",
       "      <td>Married</td>\n",
       "      <td>(0.0, 100.0]</td>\n",
       "      <td>N</td>\n",
       "    </tr>\n",
       "    <tr>\n",
       "      <th>6</th>\n",
       "      <td>Y</td>\n",
       "      <td>Divorced</td>\n",
       "      <td>(200.0, inf]</td>\n",
       "      <td>N</td>\n",
       "    </tr>\n",
       "    <tr>\n",
       "      <th>7</th>\n",
       "      <td>N</td>\n",
       "      <td>Single</td>\n",
       "      <td>(0.0, 100.0]</td>\n",
       "      <td>Y</td>\n",
       "    </tr>\n",
       "    <tr>\n",
       "      <th>8</th>\n",
       "      <td>N</td>\n",
       "      <td>Married</td>\n",
       "      <td>(0.0, 100.0]</td>\n",
       "      <td>N</td>\n",
       "    </tr>\n",
       "    <tr>\n",
       "      <th>9</th>\n",
       "      <td>N</td>\n",
       "      <td>Single</td>\n",
       "      <td>(0.0, 100.0]</td>\n",
       "      <td>Y</td>\n",
       "    </tr>\n",
       "  </tbody>\n",
       "</table>\n",
       "</div>"
      ],
      "text/plain": [
       "  Home Owner Marital Status   Annual Income Default Borrower\n",
       "0          Y         Single  (101.0, 200.0]                N\n",
       "1          N        Married    (0.0, 100.0]                N\n",
       "2          N         Single    (0.0, 100.0]                N\n",
       "3          Y        Married  (101.0, 200.0]                N\n",
       "4          N       Divorced    (0.0, 100.0]                Y\n",
       "5          N        Married    (0.0, 100.0]                N\n",
       "6          Y       Divorced    (200.0, inf]                N\n",
       "7          N         Single    (0.0, 100.0]                Y\n",
       "8          N        Married    (0.0, 100.0]                N\n",
       "9          N         Single    (0.0, 100.0]                Y"
      ]
     },
     "execution_count": 4,
     "metadata": {},
     "output_type": "execute_result"
    }
   ],
   "source": [
    "# Discretize AI into specified bins\n",
    "bins = pd.IntervalIndex.from_tuples([(0, 100), (101, 200), (200, np.inf)])\n",
    "default_borrower['Annual Income'] = pd.cut(default_borrower['Annual Income'], bins=bins)\n",
    "default_borrower"
   ]
  },
  {
   "cell_type": "markdown",
   "metadata": {},
   "source": [
    "#### Entropy(data) = $$ -\\frac{3}{10} \\log_2 \\frac{3}{10} - \\frac{7}{10} \\log_2 \\frac{7}{10} = 0.8813 $$\n",
    "\n",
    "### HOME OWNER\n",
    "\n",
    "#### Entropy(Home Owner=Y) = $$ -\\frac{3}{3} \\log_2 \\frac{3}{3} - \\frac{0}{3} \\log_2 \\frac{0}{3} = 0 $$\n",
    "\n",
    "#### Entropy(Home Owner=N) = $$ -\\frac{3}{7} \\log_2 \\frac{3}{7} - \\frac{4}{7} \\log_2 \\frac{4}{7} = 0.9852 $$\n",
    "\n",
    "#### Info Gain(Home Owner) = $$ 0.8813 -(\\frac{3}{10} \\times 0 + \\frac{7}{10} \\times 0.9852) = 0.19166 $$\n",
    "\n",
    "\n",
    "### MARITAL STATUS\n",
    "\n",
    "#### Entropy(Marital Status=Single) = $$ -\\frac{2}{4} \\log_2 \\frac{2}{4} - \\frac{2}{4} \\log_2 \\frac{2}{4} = 1 $$\n",
    "\n",
    "#### Entropy(Marital Status=Divorced) = $$ -\\frac{1}{2} \\log_2 \\frac{1}{2} - \\frac{1}{2} \\log_2 \\frac{4}{7} = 1 $$\n",
    "\n",
    "#### Entropy(Marital Status=Married) = $$ -\\frac{0}{4} \\log_2 \\frac{0}{4} - \\frac{4}{4} \\log_2 \\frac{4}{4} = 0 $$\n",
    "\n",
    "#### Info Gain(Marital Status) = $$ 0.8813 -(\\frac{4}{10} \\times 1 + \\frac{2}{10} \\times 1 + \\frac{4}{10} \\times 0) = 0.2813 $$\n",
    "\n",
    "\n",
    "### ANNUAL INC\n",
    "\n",
    "#### Entropy(Annual Inc=[0, 100]) = $$ -\\frac{3}{7} \\log_2 \\frac{3}{7} - \\frac{4}{7} \\log_2 \\frac{4}{7} = 0.9852 $$\n",
    "\n",
    "#### Entropy(Annual Inc=(101, 200]) = $$ -\\frac{0}{2} \\log_2 \\frac{0}{2} - \\frac{2}{2} \\log_2 \\frac{2}{2} = 0 $$\n",
    "\n",
    "#### Entropy(Annual Inc=(201, ]) = $$ -\\frac{0}{1} \\log_2 \\frac{0}{1} - \\frac{1}{1} \\log_2 \\frac{1}{1} = 0 $$\n",
    "\n",
    "#### Info Gain(Annual Inc) = $$ 0.8813 -(\\frac{7}{10} \\times 0.9852 + \\frac{2}{10} \\times 0 + \\frac{1}{10} \\times 0) = 0.19166 $$\n",
    "\n",
    "## Split on the attribute with the highest Info Gain: Marital Status. "
   ]
  },
  {
   "cell_type": "markdown",
   "metadata": {},
   "source": [
    "\n",
    "![title](img/tree1.png)"
   ]
  },
  {
   "cell_type": "markdown",
   "metadata": {},
   "source": [
    "## After Splitting on Marital Status, repeat the above steps for all the children of Marital Status\n",
    "## Current child: Marital Status=Married"
   ]
  },
  {
   "cell_type": "code",
   "execution_count": 5,
   "metadata": {},
   "outputs": [
    {
     "data": {
      "text/html": [
       "<div>\n",
       "<style scoped>\n",
       "    .dataframe tbody tr th:only-of-type {\n",
       "        vertical-align: middle;\n",
       "    }\n",
       "\n",
       "    .dataframe tbody tr th {\n",
       "        vertical-align: top;\n",
       "    }\n",
       "\n",
       "    .dataframe thead th {\n",
       "        text-align: right;\n",
       "    }\n",
       "</style>\n",
       "<table border=\"1\" class=\"dataframe\">\n",
       "  <thead>\n",
       "    <tr style=\"text-align: right;\">\n",
       "      <th></th>\n",
       "      <th>Home Owner</th>\n",
       "      <th>Marital Status</th>\n",
       "      <th>Annual Income</th>\n",
       "      <th>Default Borrower</th>\n",
       "    </tr>\n",
       "  </thead>\n",
       "  <tbody>\n",
       "    <tr>\n",
       "      <th>1</th>\n",
       "      <td>N</td>\n",
       "      <td>Married</td>\n",
       "      <td>(0.0, 100.0]</td>\n",
       "      <td>N</td>\n",
       "    </tr>\n",
       "    <tr>\n",
       "      <th>3</th>\n",
       "      <td>Y</td>\n",
       "      <td>Married</td>\n",
       "      <td>(101.0, 200.0]</td>\n",
       "      <td>N</td>\n",
       "    </tr>\n",
       "    <tr>\n",
       "      <th>5</th>\n",
       "      <td>N</td>\n",
       "      <td>Married</td>\n",
       "      <td>(0.0, 100.0]</td>\n",
       "      <td>N</td>\n",
       "    </tr>\n",
       "    <tr>\n",
       "      <th>8</th>\n",
       "      <td>N</td>\n",
       "      <td>Married</td>\n",
       "      <td>(0.0, 100.0]</td>\n",
       "      <td>N</td>\n",
       "    </tr>\n",
       "  </tbody>\n",
       "</table>\n",
       "</div>"
      ],
      "text/plain": [
       "  Home Owner Marital Status   Annual Income Default Borrower\n",
       "1          N        Married    (0.0, 100.0]                N\n",
       "3          Y        Married  (101.0, 200.0]                N\n",
       "5          N        Married    (0.0, 100.0]                N\n",
       "8          N        Married    (0.0, 100.0]                N"
      ]
     },
     "metadata": {},
     "output_type": "display_data"
    }
   ],
   "source": [
    "display(default_borrower[default_borrower['Marital Status'] == 'Married'])"
   ]
  },
  {
   "cell_type": "markdown",
   "metadata": {},
   "source": [
    "## Entropy(child) = 0\n",
    "## Since this subset is 100% Pure (DB=N: 4, DB=Y: 0), make this a leaf node\n",
    "\n",
    "![title](img/tree2.png)"
   ]
  },
  {
   "cell_type": "markdown",
   "metadata": {},
   "source": [
    "## Current child: Marital Status=Single"
   ]
  },
  {
   "cell_type": "code",
   "execution_count": 6,
   "metadata": {},
   "outputs": [
    {
     "data": {
      "text/html": [
       "<div>\n",
       "<style scoped>\n",
       "    .dataframe tbody tr th:only-of-type {\n",
       "        vertical-align: middle;\n",
       "    }\n",
       "\n",
       "    .dataframe tbody tr th {\n",
       "        vertical-align: top;\n",
       "    }\n",
       "\n",
       "    .dataframe thead th {\n",
       "        text-align: right;\n",
       "    }\n",
       "</style>\n",
       "<table border=\"1\" class=\"dataframe\">\n",
       "  <thead>\n",
       "    <tr style=\"text-align: right;\">\n",
       "      <th></th>\n",
       "      <th>Home Owner</th>\n",
       "      <th>Marital Status</th>\n",
       "      <th>Annual Income</th>\n",
       "      <th>Default Borrower</th>\n",
       "    </tr>\n",
       "  </thead>\n",
       "  <tbody>\n",
       "    <tr>\n",
       "      <th>0</th>\n",
       "      <td>Y</td>\n",
       "      <td>Single</td>\n",
       "      <td>(101.0, 200.0]</td>\n",
       "      <td>N</td>\n",
       "    </tr>\n",
       "    <tr>\n",
       "      <th>2</th>\n",
       "      <td>N</td>\n",
       "      <td>Single</td>\n",
       "      <td>(0.0, 100.0]</td>\n",
       "      <td>N</td>\n",
       "    </tr>\n",
       "    <tr>\n",
       "      <th>7</th>\n",
       "      <td>N</td>\n",
       "      <td>Single</td>\n",
       "      <td>(0.0, 100.0]</td>\n",
       "      <td>Y</td>\n",
       "    </tr>\n",
       "    <tr>\n",
       "      <th>9</th>\n",
       "      <td>N</td>\n",
       "      <td>Single</td>\n",
       "      <td>(0.0, 100.0]</td>\n",
       "      <td>Y</td>\n",
       "    </tr>\n",
       "  </tbody>\n",
       "</table>\n",
       "</div>"
      ],
      "text/plain": [
       "  Home Owner Marital Status   Annual Income Default Borrower\n",
       "0          Y         Single  (101.0, 200.0]                N\n",
       "2          N         Single    (0.0, 100.0]                N\n",
       "7          N         Single    (0.0, 100.0]                Y\n",
       "9          N         Single    (0.0, 100.0]                Y"
      ]
     },
     "metadata": {},
     "output_type": "display_data"
    }
   ],
   "source": [
    "display(default_borrower[default_borrower['Marital Status'] == 'Single'])"
   ]
  },
  {
   "cell_type": "markdown",
   "metadata": {},
   "source": [
    "#### Entropy(child) = $$ -\\frac{2}{4} \\log_2 \\frac{2}{4} - \\frac{2}{4} \\log_2 \\frac{2}{4} = 1 $$\n",
    "\n",
    "### HOME OWNER\n",
    "\n",
    "#### Entropy(Home Owner=Y) = $$ -\\frac{0}{1} \\log_2 \\frac{0}{1} - \\frac{1}{1} \\log_2 \\frac{1}{1} = 0 $$\n",
    "\n",
    "#### Entropy(Home Owner=N) = $$ -\\frac{2}{3} \\log_2 \\frac{2}{3} - \\frac{1}{3} \\log_2 \\frac{1}{3} = 0.9183 $$\n",
    "\n",
    "#### Info Gain(Home Owner) = $$ 1 -(\\frac{1}{4} \\times 0 + \\frac{3}{4} \\times 0.9183) = 0.3133 $$\n",
    "\n",
    "\n",
    "### ANNUAL INC\n",
    "\n",
    "#### Entropy(Annual Inc=[0, 100]) = $$ -\\frac{2}{3} \\log_2 \\frac{3}{3} - \\frac{1}{3} \\log_2 \\frac{1}{3} = 0.9183 $$\n",
    "\n",
    "#### Entropy(Annual Inc=(101, 200]) = $$ -\\frac{0}{1} \\log_2 \\frac{0}{1} - \\frac{1}{1} \\log_2 \\frac{1}{1} = 0 $$\n",
    "\n",
    "#### Info Gain(Annual Inc) = $$ 1 -(\\frac{3}{4} \\times 0.9183 + \\frac{1}{4} \\times 0) = 0.3133 $$\n",
    "\n",
    "## Split on the attribute with the highest Info Gain: Annual Income\n",
    "#### Note: It is okay to select Home Owner as well\n",
    "\n",
    "![title](img/tree3.png)"
   ]
  },
  {
   "cell_type": "markdown",
   "metadata": {},
   "source": [
    "## Current child: Marital Status=Single AND Annual Inc=(101, 200]"
   ]
  },
  {
   "cell_type": "code",
   "execution_count": 7,
   "metadata": {},
   "outputs": [
    {
     "data": {
      "text/html": [
       "<div>\n",
       "<style scoped>\n",
       "    .dataframe tbody tr th:only-of-type {\n",
       "        vertical-align: middle;\n",
       "    }\n",
       "\n",
       "    .dataframe tbody tr th {\n",
       "        vertical-align: top;\n",
       "    }\n",
       "\n",
       "    .dataframe thead th {\n",
       "        text-align: right;\n",
       "    }\n",
       "</style>\n",
       "<table border=\"1\" class=\"dataframe\">\n",
       "  <thead>\n",
       "    <tr style=\"text-align: right;\">\n",
       "      <th></th>\n",
       "      <th>Home Owner</th>\n",
       "      <th>Marital Status</th>\n",
       "      <th>Annual Income</th>\n",
       "      <th>Default Borrower</th>\n",
       "    </tr>\n",
       "  </thead>\n",
       "  <tbody>\n",
       "    <tr>\n",
       "      <th>0</th>\n",
       "      <td>Y</td>\n",
       "      <td>Single</td>\n",
       "      <td>(101.0, 200.0]</td>\n",
       "      <td>N</td>\n",
       "    </tr>\n",
       "  </tbody>\n",
       "</table>\n",
       "</div>"
      ],
      "text/plain": [
       "  Home Owner Marital Status   Annual Income Default Borrower\n",
       "0          Y         Single  (101.0, 200.0]                N"
      ]
     },
     "execution_count": 7,
     "metadata": {},
     "output_type": "execute_result"
    }
   ],
   "source": [
    "default_borrower.iloc[[0]]"
   ]
  },
  {
   "cell_type": "markdown",
   "metadata": {},
   "source": [
    "## Entropy(child) = 0\n",
    "## Since this subset is 100% Pure (DB=N: 1, DB=Y: 0), make this a leaf node\n",
    "\n",
    "![title](img/tree4.png)"
   ]
  },
  {
   "cell_type": "markdown",
   "metadata": {},
   "source": [
    "# Keep repeating the above steps until pure subsets are reached, or the size of the subset falls below a threshold"
   ]
  },
  {
   "cell_type": "code",
   "execution_count": null,
   "metadata": {},
   "outputs": [],
   "source": []
  }
 ],
 "metadata": {
  "kernelspec": {
   "display_name": "Python 3",
   "language": "python",
   "name": "python3"
  },
  "language_info": {
   "codemirror_mode": {
    "name": "ipython",
    "version": 3
   },
   "file_extension": ".py",
   "mimetype": "text/x-python",
   "name": "python",
   "nbconvert_exporter": "python",
   "pygments_lexer": "ipython3",
   "version": "3.6.5"
  }
 },
 "nbformat": 4,
 "nbformat_minor": 2
}
