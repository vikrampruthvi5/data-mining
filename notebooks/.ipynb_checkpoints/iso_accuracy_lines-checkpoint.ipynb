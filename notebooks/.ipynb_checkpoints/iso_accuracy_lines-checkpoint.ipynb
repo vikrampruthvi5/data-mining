{
 "cells": [
  {
   "cell_type": "markdown",
   "metadata": {},
   "source": [
    "### ROC plots can be augmented with iso-accuracy lines which connect ROC points with the same accuracy. Iso-accuracy lines are helpful for visually selecting the optimal classification model from a set of model candidates. More specifically, the optimal model M∗ according to accuracy is the model where there is no point to the upper-left of its iso-accuracy line. \n",
    "### Let p be the fraction of positive instances in the dataset. For a given accuracy a, the true positive rate TPR of the corresponding iso-accuracy line can be calculated as a function of the false positive rate FPR: TPR = a−(1−p)/p + (1−p)/p · FPR. \n",
    "### Figure 1 depicts the ROC points of five candidate models. Draw the iso-accuracy line for each model and select M∗ according to the following class skew: \n",
    "\n",
    "### a. p = 0.5,\n",
    "\n",
    "### b. p = 0.1,\n",
    "\n",
    "### c. p = 0.8.\n",
    "\n",
    "![iso1](img/iso1.png)"
   ]
  },
  {
   "cell_type": "markdown",
   "metadata": {},
   "source": [
    "# The equation for an iso accuracy line: y = c + mx\n",
    "\n",
    "![iso5](img/iso5.png)"
   ]
  },
  {
   "cell_type": "markdown",
   "metadata": {},
   "source": [
    "# Iso accuracy line for p = 0.5\n",
    "\n",
    "![iso2](img/iso2.png)"
   ]
  },
  {
   "cell_type": "markdown",
   "metadata": {},
   "source": [
    "# Iso accuracy line for p = 0.8\n",
    "\n",
    "![iso3](img/iso3.png)"
   ]
  },
  {
   "cell_type": "markdown",
   "metadata": {},
   "source": [
    "# Iso accuracy line for p = 0.1\n",
    "\n",
    "![iso4](img/iso4.png)"
   ]
  },
  {
   "cell_type": "code",
   "execution_count": null,
   "metadata": {},
   "outputs": [],
   "source": []
  },
  {
   "cell_type": "code",
   "execution_count": null,
   "metadata": {},
   "outputs": [],
   "source": []
  }
 ],
 "metadata": {
  "kernelspec": {
   "display_name": "Python 3",
   "language": "python",
   "name": "python3"
  },
  "language_info": {
   "codemirror_mode": {
    "name": "ipython",
    "version": 3
   },
   "file_extension": ".py",
   "mimetype": "text/x-python",
   "name": "python",
   "nbconvert_exporter": "python",
   "pygments_lexer": "ipython3",
   "version": "3.7.3"
  }
 },
 "nbformat": 4,
 "nbformat_minor": 2
}
